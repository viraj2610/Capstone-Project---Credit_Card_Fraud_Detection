{
 "cells": [
  {
   "cell_type": "markdown",
   "metadata": {
    "colab_type": "text",
    "id": "zsvZ9_DXpiQo"
   },
   "source": [
    "## Credit Card Fraud Detection\n",
    "\n",
    "In this project you will predict fraudulent credit card transactions with the help of Machine learning models. Please import the following libraries to get started."
   ]
  },
  {
   "cell_type": "code",
   "execution_count": 1,
   "metadata": {
    "colab": {
     "base_uri": "https://localhost:8080/",
     "height": 71
    },
    "colab_type": "code",
    "id": "EY-lLSyVpiQq",
    "outputId": "08631122-3a34-4f94-b160-386069c1ca08"
   },
   "outputs": [],
   "source": [
    "import numpy as np\n",
    "import pandas as pd\n",
    "\n",
    "import matplotlib.pyplot as plt\n",
    "%matplotlib inline\n",
    "import seaborn as sns\n",
    "\n",
    "from sklearn import metrics\n",
    "from sklearn import preprocessing"
   ]
  },
  {
   "cell_type": "markdown",
   "metadata": {
    "colab_type": "text",
    "id": "SmVw6YAspiQu"
   },
   "source": [
    "## Exploratory data analysis"
   ]
  },
  {
   "cell_type": "code",
   "execution_count": 2,
   "metadata": {
    "colab": {
     "base_uri": "https://localhost:8080/",
     "height": 224
    },
    "colab_type": "code",
    "id": "5rHQINtwpiQv",
    "outputId": "30dd0f97-108c-44ee-b7e1-2d787e6d8fd6"
   },
   "outputs": [
    {
     "data": {
      "text/html": [
       "<div>\n",
       "<style scoped>\n",
       "    .dataframe tbody tr th:only-of-type {\n",
       "        vertical-align: middle;\n",
       "    }\n",
       "\n",
       "    .dataframe tbody tr th {\n",
       "        vertical-align: top;\n",
       "    }\n",
       "\n",
       "    .dataframe thead th {\n",
       "        text-align: right;\n",
       "    }\n",
       "</style>\n",
       "<table border=\"1\" class=\"dataframe\">\n",
       "  <thead>\n",
       "    <tr style=\"text-align: right;\">\n",
       "      <th></th>\n",
       "      <th>Time</th>\n",
       "      <th>V1</th>\n",
       "      <th>V2</th>\n",
       "      <th>V3</th>\n",
       "      <th>V4</th>\n",
       "      <th>V5</th>\n",
       "      <th>V6</th>\n",
       "      <th>V7</th>\n",
       "      <th>V8</th>\n",
       "      <th>V9</th>\n",
       "      <th>...</th>\n",
       "      <th>V21</th>\n",
       "      <th>V22</th>\n",
       "      <th>V23</th>\n",
       "      <th>V24</th>\n",
       "      <th>V25</th>\n",
       "      <th>V26</th>\n",
       "      <th>V27</th>\n",
       "      <th>V28</th>\n",
       "      <th>Amount</th>\n",
       "      <th>Class</th>\n",
       "    </tr>\n",
       "  </thead>\n",
       "  <tbody>\n",
       "    <tr>\n",
       "      <th>0</th>\n",
       "      <td>0.0</td>\n",
       "      <td>-1.359807</td>\n",
       "      <td>-0.072781</td>\n",
       "      <td>2.536347</td>\n",
       "      <td>1.378155</td>\n",
       "      <td>-0.338321</td>\n",
       "      <td>0.462388</td>\n",
       "      <td>0.239599</td>\n",
       "      <td>0.098698</td>\n",
       "      <td>0.363787</td>\n",
       "      <td>...</td>\n",
       "      <td>-0.018307</td>\n",
       "      <td>0.277838</td>\n",
       "      <td>-0.110474</td>\n",
       "      <td>0.066928</td>\n",
       "      <td>0.128539</td>\n",
       "      <td>-0.189115</td>\n",
       "      <td>0.133558</td>\n",
       "      <td>-0.021053</td>\n",
       "      <td>149.62</td>\n",
       "      <td>0</td>\n",
       "    </tr>\n",
       "    <tr>\n",
       "      <th>1</th>\n",
       "      <td>0.0</td>\n",
       "      <td>1.191857</td>\n",
       "      <td>0.266151</td>\n",
       "      <td>0.166480</td>\n",
       "      <td>0.448154</td>\n",
       "      <td>0.060018</td>\n",
       "      <td>-0.082361</td>\n",
       "      <td>-0.078803</td>\n",
       "      <td>0.085102</td>\n",
       "      <td>-0.255425</td>\n",
       "      <td>...</td>\n",
       "      <td>-0.225775</td>\n",
       "      <td>-0.638672</td>\n",
       "      <td>0.101288</td>\n",
       "      <td>-0.339846</td>\n",
       "      <td>0.167170</td>\n",
       "      <td>0.125895</td>\n",
       "      <td>-0.008983</td>\n",
       "      <td>0.014724</td>\n",
       "      <td>2.69</td>\n",
       "      <td>0</td>\n",
       "    </tr>\n",
       "    <tr>\n",
       "      <th>2</th>\n",
       "      <td>1.0</td>\n",
       "      <td>-1.358354</td>\n",
       "      <td>-1.340163</td>\n",
       "      <td>1.773209</td>\n",
       "      <td>0.379780</td>\n",
       "      <td>-0.503198</td>\n",
       "      <td>1.800499</td>\n",
       "      <td>0.791461</td>\n",
       "      <td>0.247676</td>\n",
       "      <td>-1.514654</td>\n",
       "      <td>...</td>\n",
       "      <td>0.247998</td>\n",
       "      <td>0.771679</td>\n",
       "      <td>0.909412</td>\n",
       "      <td>-0.689281</td>\n",
       "      <td>-0.327642</td>\n",
       "      <td>-0.139097</td>\n",
       "      <td>-0.055353</td>\n",
       "      <td>-0.059752</td>\n",
       "      <td>378.66</td>\n",
       "      <td>0</td>\n",
       "    </tr>\n",
       "    <tr>\n",
       "      <th>3</th>\n",
       "      <td>1.0</td>\n",
       "      <td>-0.966272</td>\n",
       "      <td>-0.185226</td>\n",
       "      <td>1.792993</td>\n",
       "      <td>-0.863291</td>\n",
       "      <td>-0.010309</td>\n",
       "      <td>1.247203</td>\n",
       "      <td>0.237609</td>\n",
       "      <td>0.377436</td>\n",
       "      <td>-1.387024</td>\n",
       "      <td>...</td>\n",
       "      <td>-0.108300</td>\n",
       "      <td>0.005274</td>\n",
       "      <td>-0.190321</td>\n",
       "      <td>-1.175575</td>\n",
       "      <td>0.647376</td>\n",
       "      <td>-0.221929</td>\n",
       "      <td>0.062723</td>\n",
       "      <td>0.061458</td>\n",
       "      <td>123.50</td>\n",
       "      <td>0</td>\n",
       "    </tr>\n",
       "    <tr>\n",
       "      <th>4</th>\n",
       "      <td>2.0</td>\n",
       "      <td>-1.158233</td>\n",
       "      <td>0.877737</td>\n",
       "      <td>1.548718</td>\n",
       "      <td>0.403034</td>\n",
       "      <td>-0.407193</td>\n",
       "      <td>0.095921</td>\n",
       "      <td>0.592941</td>\n",
       "      <td>-0.270533</td>\n",
       "      <td>0.817739</td>\n",
       "      <td>...</td>\n",
       "      <td>-0.009431</td>\n",
       "      <td>0.798278</td>\n",
       "      <td>-0.137458</td>\n",
       "      <td>0.141267</td>\n",
       "      <td>-0.206010</td>\n",
       "      <td>0.502292</td>\n",
       "      <td>0.219422</td>\n",
       "      <td>0.215153</td>\n",
       "      <td>69.99</td>\n",
       "      <td>0</td>\n",
       "    </tr>\n",
       "  </tbody>\n",
       "</table>\n",
       "<p>5 rows × 31 columns</p>\n",
       "</div>"
      ],
      "text/plain": [
       "   Time        V1        V2        V3        V4        V5        V6        V7  \\\n",
       "0   0.0 -1.359807 -0.072781  2.536347  1.378155 -0.338321  0.462388  0.239599   \n",
       "1   0.0  1.191857  0.266151  0.166480  0.448154  0.060018 -0.082361 -0.078803   \n",
       "2   1.0 -1.358354 -1.340163  1.773209  0.379780 -0.503198  1.800499  0.791461   \n",
       "3   1.0 -0.966272 -0.185226  1.792993 -0.863291 -0.010309  1.247203  0.237609   \n",
       "4   2.0 -1.158233  0.877737  1.548718  0.403034 -0.407193  0.095921  0.592941   \n",
       "\n",
       "         V8        V9  ...       V21       V22       V23       V24       V25  \\\n",
       "0  0.098698  0.363787  ... -0.018307  0.277838 -0.110474  0.066928  0.128539   \n",
       "1  0.085102 -0.255425  ... -0.225775 -0.638672  0.101288 -0.339846  0.167170   \n",
       "2  0.247676 -1.514654  ...  0.247998  0.771679  0.909412 -0.689281 -0.327642   \n",
       "3  0.377436 -1.387024  ... -0.108300  0.005274 -0.190321 -1.175575  0.647376   \n",
       "4 -0.270533  0.817739  ... -0.009431  0.798278 -0.137458  0.141267 -0.206010   \n",
       "\n",
       "        V26       V27       V28  Amount  Class  \n",
       "0 -0.189115  0.133558 -0.021053  149.62      0  \n",
       "1  0.125895 -0.008983  0.014724    2.69      0  \n",
       "2 -0.139097 -0.055353 -0.059752  378.66      0  \n",
       "3 -0.221929  0.062723  0.061458  123.50      0  \n",
       "4  0.502292  0.219422  0.215153   69.99      0  \n",
       "\n",
       "[5 rows x 31 columns]"
      ]
     },
     "execution_count": 2,
     "metadata": {},
     "output_type": "execute_result"
    }
   ],
   "source": [
    "df = pd.read_csv('creditcard.csv')\n",
    "df.head()"
   ]
  },
  {
   "cell_type": "code",
   "execution_count": 3,
   "metadata": {
    "colab": {
     "base_uri": "https://localhost:8080/",
     "height": 980
    },
    "colab_type": "code",
    "id": "Sj15rBqHpiQ1",
    "outputId": "8c2cb918-b07d-4c1f-9728-3aa8928b26e7"
   },
   "outputs": [
    {
     "name": "stdout",
     "output_type": "stream",
     "text": [
      "<class 'pandas.core.frame.DataFrame'>\n",
      "RangeIndex: 284807 entries, 0 to 284806\n",
      "Data columns (total 31 columns):\n",
      "Time      284807 non-null float64\n",
      "V1        284807 non-null float64\n",
      "V2        284807 non-null float64\n",
      "V3        284807 non-null float64\n",
      "V4        284807 non-null float64\n",
      "V5        284807 non-null float64\n",
      "V6        284807 non-null float64\n",
      "V7        284807 non-null float64\n",
      "V8        284807 non-null float64\n",
      "V9        284807 non-null float64\n",
      "V10       284807 non-null float64\n",
      "V11       284807 non-null float64\n",
      "V12       284807 non-null float64\n",
      "V13       284807 non-null float64\n",
      "V14       284807 non-null float64\n",
      "V15       284807 non-null float64\n",
      "V16       284807 non-null float64\n",
      "V17       284807 non-null float64\n",
      "V18       284807 non-null float64\n",
      "V19       284807 non-null float64\n",
      "V20       284807 non-null float64\n",
      "V21       284807 non-null float64\n",
      "V22       284807 non-null float64\n",
      "V23       284807 non-null float64\n",
      "V24       284807 non-null float64\n",
      "V25       284807 non-null float64\n",
      "V26       284807 non-null float64\n",
      "V27       284807 non-null float64\n",
      "V28       284807 non-null float64\n",
      "Amount    284807 non-null float64\n",
      "Class     284807 non-null int64\n",
      "dtypes: float64(30), int64(1)\n",
      "memory usage: 67.4 MB\n",
      "None\n"
     ]
    },
    {
     "data": {
      "text/html": [
       "<div>\n",
       "<style scoped>\n",
       "    .dataframe tbody tr th:only-of-type {\n",
       "        vertical-align: middle;\n",
       "    }\n",
       "\n",
       "    .dataframe tbody tr th {\n",
       "        vertical-align: top;\n",
       "    }\n",
       "\n",
       "    .dataframe thead th {\n",
       "        text-align: right;\n",
       "    }\n",
       "</style>\n",
       "<table border=\"1\" class=\"dataframe\">\n",
       "  <thead>\n",
       "    <tr style=\"text-align: right;\">\n",
       "      <th></th>\n",
       "      <th>Time</th>\n",
       "      <th>V1</th>\n",
       "      <th>V2</th>\n",
       "      <th>V3</th>\n",
       "      <th>V4</th>\n",
       "      <th>V5</th>\n",
       "      <th>V6</th>\n",
       "      <th>V7</th>\n",
       "      <th>V8</th>\n",
       "      <th>V9</th>\n",
       "      <th>...</th>\n",
       "      <th>V21</th>\n",
       "      <th>V22</th>\n",
       "      <th>V23</th>\n",
       "      <th>V24</th>\n",
       "      <th>V25</th>\n",
       "      <th>V26</th>\n",
       "      <th>V27</th>\n",
       "      <th>V28</th>\n",
       "      <th>Amount</th>\n",
       "      <th>Class</th>\n",
       "    </tr>\n",
       "  </thead>\n",
       "  <tbody>\n",
       "    <tr>\n",
       "      <th>count</th>\n",
       "      <td>284807.000000</td>\n",
       "      <td>2.848070e+05</td>\n",
       "      <td>2.848070e+05</td>\n",
       "      <td>2.848070e+05</td>\n",
       "      <td>2.848070e+05</td>\n",
       "      <td>2.848070e+05</td>\n",
       "      <td>2.848070e+05</td>\n",
       "      <td>2.848070e+05</td>\n",
       "      <td>2.848070e+05</td>\n",
       "      <td>2.848070e+05</td>\n",
       "      <td>...</td>\n",
       "      <td>2.848070e+05</td>\n",
       "      <td>2.848070e+05</td>\n",
       "      <td>2.848070e+05</td>\n",
       "      <td>2.848070e+05</td>\n",
       "      <td>2.848070e+05</td>\n",
       "      <td>2.848070e+05</td>\n",
       "      <td>2.848070e+05</td>\n",
       "      <td>2.848070e+05</td>\n",
       "      <td>284807.000000</td>\n",
       "      <td>284807.000000</td>\n",
       "    </tr>\n",
       "    <tr>\n",
       "      <th>mean</th>\n",
       "      <td>94813.859575</td>\n",
       "      <td>3.919560e-15</td>\n",
       "      <td>5.688174e-16</td>\n",
       "      <td>-8.769071e-15</td>\n",
       "      <td>2.782312e-15</td>\n",
       "      <td>-1.552563e-15</td>\n",
       "      <td>2.010663e-15</td>\n",
       "      <td>-1.694249e-15</td>\n",
       "      <td>-1.927028e-16</td>\n",
       "      <td>-3.137024e-15</td>\n",
       "      <td>...</td>\n",
       "      <td>1.537294e-16</td>\n",
       "      <td>7.959909e-16</td>\n",
       "      <td>5.367590e-16</td>\n",
       "      <td>4.458112e-15</td>\n",
       "      <td>1.453003e-15</td>\n",
       "      <td>1.699104e-15</td>\n",
       "      <td>-3.660161e-16</td>\n",
       "      <td>-1.206049e-16</td>\n",
       "      <td>88.349619</td>\n",
       "      <td>0.001727</td>\n",
       "    </tr>\n",
       "    <tr>\n",
       "      <th>std</th>\n",
       "      <td>47488.145955</td>\n",
       "      <td>1.958696e+00</td>\n",
       "      <td>1.651309e+00</td>\n",
       "      <td>1.516255e+00</td>\n",
       "      <td>1.415869e+00</td>\n",
       "      <td>1.380247e+00</td>\n",
       "      <td>1.332271e+00</td>\n",
       "      <td>1.237094e+00</td>\n",
       "      <td>1.194353e+00</td>\n",
       "      <td>1.098632e+00</td>\n",
       "      <td>...</td>\n",
       "      <td>7.345240e-01</td>\n",
       "      <td>7.257016e-01</td>\n",
       "      <td>6.244603e-01</td>\n",
       "      <td>6.056471e-01</td>\n",
       "      <td>5.212781e-01</td>\n",
       "      <td>4.822270e-01</td>\n",
       "      <td>4.036325e-01</td>\n",
       "      <td>3.300833e-01</td>\n",
       "      <td>250.120109</td>\n",
       "      <td>0.041527</td>\n",
       "    </tr>\n",
       "    <tr>\n",
       "      <th>min</th>\n",
       "      <td>0.000000</td>\n",
       "      <td>-5.640751e+01</td>\n",
       "      <td>-7.271573e+01</td>\n",
       "      <td>-4.832559e+01</td>\n",
       "      <td>-5.683171e+00</td>\n",
       "      <td>-1.137433e+02</td>\n",
       "      <td>-2.616051e+01</td>\n",
       "      <td>-4.355724e+01</td>\n",
       "      <td>-7.321672e+01</td>\n",
       "      <td>-1.343407e+01</td>\n",
       "      <td>...</td>\n",
       "      <td>-3.483038e+01</td>\n",
       "      <td>-1.093314e+01</td>\n",
       "      <td>-4.480774e+01</td>\n",
       "      <td>-2.836627e+00</td>\n",
       "      <td>-1.029540e+01</td>\n",
       "      <td>-2.604551e+00</td>\n",
       "      <td>-2.256568e+01</td>\n",
       "      <td>-1.543008e+01</td>\n",
       "      <td>0.000000</td>\n",
       "      <td>0.000000</td>\n",
       "    </tr>\n",
       "    <tr>\n",
       "      <th>25%</th>\n",
       "      <td>54201.500000</td>\n",
       "      <td>-9.203734e-01</td>\n",
       "      <td>-5.985499e-01</td>\n",
       "      <td>-8.903648e-01</td>\n",
       "      <td>-8.486401e-01</td>\n",
       "      <td>-6.915971e-01</td>\n",
       "      <td>-7.682956e-01</td>\n",
       "      <td>-5.540759e-01</td>\n",
       "      <td>-2.086297e-01</td>\n",
       "      <td>-6.430976e-01</td>\n",
       "      <td>...</td>\n",
       "      <td>-2.283949e-01</td>\n",
       "      <td>-5.423504e-01</td>\n",
       "      <td>-1.618463e-01</td>\n",
       "      <td>-3.545861e-01</td>\n",
       "      <td>-3.171451e-01</td>\n",
       "      <td>-3.269839e-01</td>\n",
       "      <td>-7.083953e-02</td>\n",
       "      <td>-5.295979e-02</td>\n",
       "      <td>5.600000</td>\n",
       "      <td>0.000000</td>\n",
       "    </tr>\n",
       "    <tr>\n",
       "      <th>50%</th>\n",
       "      <td>84692.000000</td>\n",
       "      <td>1.810880e-02</td>\n",
       "      <td>6.548556e-02</td>\n",
       "      <td>1.798463e-01</td>\n",
       "      <td>-1.984653e-02</td>\n",
       "      <td>-5.433583e-02</td>\n",
       "      <td>-2.741871e-01</td>\n",
       "      <td>4.010308e-02</td>\n",
       "      <td>2.235804e-02</td>\n",
       "      <td>-5.142873e-02</td>\n",
       "      <td>...</td>\n",
       "      <td>-2.945017e-02</td>\n",
       "      <td>6.781943e-03</td>\n",
       "      <td>-1.119293e-02</td>\n",
       "      <td>4.097606e-02</td>\n",
       "      <td>1.659350e-02</td>\n",
       "      <td>-5.213911e-02</td>\n",
       "      <td>1.342146e-03</td>\n",
       "      <td>1.124383e-02</td>\n",
       "      <td>22.000000</td>\n",
       "      <td>0.000000</td>\n",
       "    </tr>\n",
       "    <tr>\n",
       "      <th>75%</th>\n",
       "      <td>139320.500000</td>\n",
       "      <td>1.315642e+00</td>\n",
       "      <td>8.037239e-01</td>\n",
       "      <td>1.027196e+00</td>\n",
       "      <td>7.433413e-01</td>\n",
       "      <td>6.119264e-01</td>\n",
       "      <td>3.985649e-01</td>\n",
       "      <td>5.704361e-01</td>\n",
       "      <td>3.273459e-01</td>\n",
       "      <td>5.971390e-01</td>\n",
       "      <td>...</td>\n",
       "      <td>1.863772e-01</td>\n",
       "      <td>5.285536e-01</td>\n",
       "      <td>1.476421e-01</td>\n",
       "      <td>4.395266e-01</td>\n",
       "      <td>3.507156e-01</td>\n",
       "      <td>2.409522e-01</td>\n",
       "      <td>9.104512e-02</td>\n",
       "      <td>7.827995e-02</td>\n",
       "      <td>77.165000</td>\n",
       "      <td>0.000000</td>\n",
       "    </tr>\n",
       "    <tr>\n",
       "      <th>max</th>\n",
       "      <td>172792.000000</td>\n",
       "      <td>2.454930e+00</td>\n",
       "      <td>2.205773e+01</td>\n",
       "      <td>9.382558e+00</td>\n",
       "      <td>1.687534e+01</td>\n",
       "      <td>3.480167e+01</td>\n",
       "      <td>7.330163e+01</td>\n",
       "      <td>1.205895e+02</td>\n",
       "      <td>2.000721e+01</td>\n",
       "      <td>1.559499e+01</td>\n",
       "      <td>...</td>\n",
       "      <td>2.720284e+01</td>\n",
       "      <td>1.050309e+01</td>\n",
       "      <td>2.252841e+01</td>\n",
       "      <td>4.584549e+00</td>\n",
       "      <td>7.519589e+00</td>\n",
       "      <td>3.517346e+00</td>\n",
       "      <td>3.161220e+01</td>\n",
       "      <td>3.384781e+01</td>\n",
       "      <td>25691.160000</td>\n",
       "      <td>1.000000</td>\n",
       "    </tr>\n",
       "  </tbody>\n",
       "</table>\n",
       "<p>8 rows × 31 columns</p>\n",
       "</div>"
      ],
      "text/plain": [
       "                Time            V1            V2            V3            V4  \\\n",
       "count  284807.000000  2.848070e+05  2.848070e+05  2.848070e+05  2.848070e+05   \n",
       "mean    94813.859575  3.919560e-15  5.688174e-16 -8.769071e-15  2.782312e-15   \n",
       "std     47488.145955  1.958696e+00  1.651309e+00  1.516255e+00  1.415869e+00   \n",
       "min         0.000000 -5.640751e+01 -7.271573e+01 -4.832559e+01 -5.683171e+00   \n",
       "25%     54201.500000 -9.203734e-01 -5.985499e-01 -8.903648e-01 -8.486401e-01   \n",
       "50%     84692.000000  1.810880e-02  6.548556e-02  1.798463e-01 -1.984653e-02   \n",
       "75%    139320.500000  1.315642e+00  8.037239e-01  1.027196e+00  7.433413e-01   \n",
       "max    172792.000000  2.454930e+00  2.205773e+01  9.382558e+00  1.687534e+01   \n",
       "\n",
       "                 V5            V6            V7            V8            V9  \\\n",
       "count  2.848070e+05  2.848070e+05  2.848070e+05  2.848070e+05  2.848070e+05   \n",
       "mean  -1.552563e-15  2.010663e-15 -1.694249e-15 -1.927028e-16 -3.137024e-15   \n",
       "std    1.380247e+00  1.332271e+00  1.237094e+00  1.194353e+00  1.098632e+00   \n",
       "min   -1.137433e+02 -2.616051e+01 -4.355724e+01 -7.321672e+01 -1.343407e+01   \n",
       "25%   -6.915971e-01 -7.682956e-01 -5.540759e-01 -2.086297e-01 -6.430976e-01   \n",
       "50%   -5.433583e-02 -2.741871e-01  4.010308e-02  2.235804e-02 -5.142873e-02   \n",
       "75%    6.119264e-01  3.985649e-01  5.704361e-01  3.273459e-01  5.971390e-01   \n",
       "max    3.480167e+01  7.330163e+01  1.205895e+02  2.000721e+01  1.559499e+01   \n",
       "\n",
       "       ...           V21           V22           V23           V24  \\\n",
       "count  ...  2.848070e+05  2.848070e+05  2.848070e+05  2.848070e+05   \n",
       "mean   ...  1.537294e-16  7.959909e-16  5.367590e-16  4.458112e-15   \n",
       "std    ...  7.345240e-01  7.257016e-01  6.244603e-01  6.056471e-01   \n",
       "min    ... -3.483038e+01 -1.093314e+01 -4.480774e+01 -2.836627e+00   \n",
       "25%    ... -2.283949e-01 -5.423504e-01 -1.618463e-01 -3.545861e-01   \n",
       "50%    ... -2.945017e-02  6.781943e-03 -1.119293e-02  4.097606e-02   \n",
       "75%    ...  1.863772e-01  5.285536e-01  1.476421e-01  4.395266e-01   \n",
       "max    ...  2.720284e+01  1.050309e+01  2.252841e+01  4.584549e+00   \n",
       "\n",
       "                V25           V26           V27           V28         Amount  \\\n",
       "count  2.848070e+05  2.848070e+05  2.848070e+05  2.848070e+05  284807.000000   \n",
       "mean   1.453003e-15  1.699104e-15 -3.660161e-16 -1.206049e-16      88.349619   \n",
       "std    5.212781e-01  4.822270e-01  4.036325e-01  3.300833e-01     250.120109   \n",
       "min   -1.029540e+01 -2.604551e+00 -2.256568e+01 -1.543008e+01       0.000000   \n",
       "25%   -3.171451e-01 -3.269839e-01 -7.083953e-02 -5.295979e-02       5.600000   \n",
       "50%    1.659350e-02 -5.213911e-02  1.342146e-03  1.124383e-02      22.000000   \n",
       "75%    3.507156e-01  2.409522e-01  9.104512e-02  7.827995e-02      77.165000   \n",
       "max    7.519589e+00  3.517346e+00  3.161220e+01  3.384781e+01   25691.160000   \n",
       "\n",
       "               Class  \n",
       "count  284807.000000  \n",
       "mean        0.001727  \n",
       "std         0.041527  \n",
       "min         0.000000  \n",
       "25%         0.000000  \n",
       "50%         0.000000  \n",
       "75%         0.000000  \n",
       "max         1.000000  \n",
       "\n",
       "[8 rows x 31 columns]"
      ]
     },
     "execution_count": 3,
     "metadata": {},
     "output_type": "execute_result"
    }
   ],
   "source": [
    "#observe the different feature type present in the data\n",
    "print(df.info())\n",
    "df.describe()"
   ]
  },
  {
   "cell_type": "markdown",
   "metadata": {
    "colab_type": "text",
    "id": "s_xFZAe0piQ5"
   },
   "source": [
    "Here we will observe the distribution of our classes"
   ]
  },
  {
   "cell_type": "code",
   "execution_count": 4,
   "metadata": {
    "colab": {},
    "colab_type": "code",
    "id": "0TDWgfMMpiQ6"
   },
   "outputs": [
    {
     "name": "stdout",
     "output_type": "stream",
     "text": [
      "\u001b[1m% of Non-fraudulent Transaction: 99.827\n",
      "\u001b[1m% of Fraudulent Transaction: 0.173\n"
     ]
    }
   ],
   "source": [
    "classes=df['Class'].value_counts()\n",
    "normal_share=classes[0]/df['Class'].count()*100\n",
    "fraud_share=classes[1]/df['Class'].count()*100\n",
    "\n",
    "print('\\033[1m' + '% of Non-fraudulent Transaction:',round(normal_share,3))\n",
    "print('\\033[1m' + '% of Fraudulent Transaction:',round(fraud_share,3))"
   ]
  },
  {
   "cell_type": "code",
   "execution_count": 5,
   "metadata": {
    "colab": {
     "base_uri": "https://localhost:8080/",
     "height": 279
    },
    "colab_type": "code",
    "id": "N9Nzs_VDpiQ9",
    "outputId": "1be28a32-2bdb-414b-a656-a69e848451ae"
   },
   "outputs": [
    {
     "data": {
      "text/plain": [
       "<matplotlib.axes._subplots.AxesSubplot at 0x241ae658128>"
      ]
     },
     "execution_count": 5,
     "metadata": {},
     "output_type": "execute_result"
    },
    {
     "data": {
      "image/png": "[encoded data removed]",
      "text/plain": [
       "<Figure size 432x288 with 1 Axes>"
      ]
     },
     "metadata": {
      "needs_background": "light"
     },
     "output_type": "display_data"
    }
   ],
   "source": [
    "# Create a bar plot for the number and percentage of fraudulent vs non-fraudulent transcations\n",
    "\n",
    "df['Class'].value_counts().plot(kind = 'bar')"
   ]
  },
  {
   "cell_type": "code",
   "execution_count": 6,
   "metadata": {
    "colab": {},
    "colab_type": "code",
    "id": "uhamBt8QpiRA"
   },
   "outputs": [
    {
     "data": {
      "text/plain": [
       "<matplotlib.axes._subplots.AxesSubplot at 0x241ae49ea90>"
      ]
     },
     "execution_count": 6,
     "metadata": {},
     "output_type": "execute_result"
    },
    {
     "data": {
      "image/png": "[encoded data removed]",
      "text/plain": [
       "<Figure size 432x288 with 1 Axes>"
      ]
     },
     "metadata": {
      "needs_background": "light"
     },
     "output_type": "display_data"
    }
   ],
   "source": [
    "# Create a scatter plot to observe the distribution of classes with time\n",
    "sns.scatterplot(y=df.Time, x=df.Class, hue=df.Class)"
   ]
  },
  {
   "cell_type": "code",
   "execution_count": 7,
   "metadata": {
    "colab": {},
    "colab_type": "code",
    "id": "ZBK7c_5XpiRE"
   },
   "outputs": [
    {
     "data": {
      "text/plain": [
       "<matplotlib.axes._subplots.AxesSubplot at 0x241ae5532b0>"
      ]
     },
     "execution_count": 7,
     "metadata": {},
     "output_type": "execute_result"
    },
    {
     "data": {
      "image/png": "[encoded data removed]",
      "text/plain": [
       "<Figure size 432x288 with 1 Axes>"
      ]
     },
     "metadata": {
      "needs_background": "light"
     },
     "output_type": "display_data"
    }
   ],
   "source": [
    "# Create a scatter plot to observe the distribution of classes with Amount\n",
    "sns.scatterplot(x=df.Amount, y=df.Class, hue=df.Class)"
   ]
  },
  {
   "cell_type": "code",
   "execution_count": 8,
   "metadata": {
    "colab": {},
    "colab_type": "code",
    "id": "5pLHyLdDpiRI"
   },
   "outputs": [],
   "source": [
    "# Drop unnecessary columns\n",
    "df = df.drop('Time', axis=1)\n",
    "df_copy = df.copy()"
   ]
  },
  {
   "cell_type": "markdown",
   "metadata": {
    "colab_type": "text",
    "id": "40oFNTnwpiRO"
   },
   "source": [
    "### Splitting the data into train & test data"
   ]
  },
  {
   "cell_type": "code",
   "execution_count": 9,
   "metadata": {
    "colab": {},
    "colab_type": "code",
    "id": "pXZNwuCMpiRO"
   },
   "outputs": [],
   "source": [
    "y= df.Class  #class variable\n",
    "\n",
    "X = df.drop('Class', axis=1)"
   ]
  },
  {
   "cell_type": "code",
   "execution_count": 10,
   "metadata": {
    "colab": {},
    "colab_type": "code",
    "id": "YpEHQ4EEpiRW"
   },
   "outputs": [],
   "source": [
    "from sklearn.model_selection import train_test_split\n",
    "\n",
    "X_train, X_test, y_train, y_test = train_test_split(X,y, train_size = 0.7, test_size = 0.3, stratify = y, random_state = 42)"
   ]
  },
  {
   "cell_type": "markdown",
   "metadata": {
    "colab_type": "text",
    "id": "yxHUl9KypiRb"
   },
   "source": [
    "##### Preserve X_test & y_test to evaluate on the test data once you build the model"
   ]
  },
  {
   "cell_type": "code",
   "execution_count": 11,
   "metadata": {
    "colab": {
     "base_uri": "https://localhost:8080/",
     "height": 68
    },
    "colab_type": "code",
    "id": "xpZJ8UgYpiRc",
    "outputId": "8e450b30-d762-4000-ecc0-9f25c98fc52f"
   },
   "outputs": [
    {
     "name": "stdout",
     "output_type": "stream",
     "text": [
      "492\n",
      "344\n",
      "148\n"
     ]
    }
   ],
   "source": [
    "print(np.sum(y))\n",
    "print(np.sum(y_train))\n",
    "print(np.sum(y_test))"
   ]
  },
  {
   "cell_type": "markdown",
   "metadata": {
    "colab_type": "text",
    "id": "PBTVOuMnpiRf"
   },
   "source": [
    "### Plotting the distribution of a variable"
   ]
  },
  {
   "cell_type": "code",
   "execution_count": 12,
   "metadata": {
    "colab": {
     "base_uri": "https://localhost:8080/",
     "height": 296
    },
    "colab_type": "code",
    "id": "okCoFib0piRg",
    "outputId": "f93c2a54-3f02-4443-db1b-548c19e0c470"
   },
   "outputs": [
    {
     "name": "stderr",
     "output_type": "stream",
     "text": [
      "C:\\Users\\viraj\\Anaconda3\\lib\\site-packages\\scipy\\stats\\stats.py:1713: FutureWarning: Using a non-tuple sequence for multidimensional indexing is deprecated; use `arr[tuple(seq)]` instead of `arr[seq]`. In the future this will be interpreted as an array index, `arr[np.array(seq)]`, which will result either in an error or a different result.\n",
      "  return np.add.reduce(sorted[indexer] * weights, axis=axis) / sumval\n"
     ]
    },
    {
     "data": {
      "text/plain": [
       "<matplotlib.axes._subplots.AxesSubplot at 0x241ae3ecfd0>"
      ]
     },
     "execution_count": 12,
     "metadata": {},
     "output_type": "execute_result"
    },
    {
     "data": {
      "image/png": "[encoded data removed]",
      "text/plain": [
       "<Figure size 432x288 with 1 Axes>"
      ]
     },
     "metadata": {
      "needs_background": "light"
     },
     "output_type": "display_data"
    }
   ],
   "source": [
    "# plot the histogram of a variable from the dataset to see the skewness\n",
    "sns.distplot(df.V1)"
   ]
  },
  {
   "cell_type": "code",
   "execution_count": 13,
   "metadata": {
    "colab": {
     "base_uri": "https://localhost:8080/",
     "height": 297
    },
    "colab_type": "code",
    "id": "QJilAOzESoPk",
    "outputId": "ff5ec8cf-7672-4224-959e-dbb92206a050"
   },
   "outputs": [
    {
     "data": {
      "text/plain": [
       "<matplotlib.axes._subplots.AxesSubplot at 0x241af1807b8>"
      ]
     },
     "execution_count": 13,
     "metadata": {},
     "output_type": "execute_result"
    },
    {
     "data": {
      "image/png": "[encoded data removed]",
      "text/plain": [
       "<Figure size 432x288 with 1 Axes>"
      ]
     },
     "metadata": {
      "needs_background": "light"
     },
     "output_type": "display_data"
    }
   ],
   "source": [
    "# plot the histogram of a variable from the dataset to see the skewness\n",
    "sns.distplot(df.V2)"
   ]
  },
  {
   "cell_type": "code",
   "execution_count": 14,
   "metadata": {
    "colab": {
     "base_uri": "https://localhost:8080/",
     "height": 279
    },
    "colab_type": "code",
    "id": "po8rKtJCSrhk",
    "outputId": "b9384918-6395-4c54-c234-0c5021bc0339"
   },
   "outputs": [
    {
     "data": {
      "image/png": "[encoded data removed]",
      "text/plain": [
       "<Figure size 432x288 with 1 Axes>"
      ]
     },
     "metadata": {
      "needs_background": "light"
     },
     "output_type": "display_data"
    }
   ],
   "source": [
    "fet=['V1','V2','V3']\n",
    "for i in fet:\n",
    "  sns.distplot(df[i])"
   ]
  },
  {
   "cell_type": "code",
   "execution_count": 15,
   "metadata": {
    "colab": {
     "base_uri": "https://localhost:8080/",
     "height": 279
    },
    "colab_type": "code",
    "id": "5rkp7r0pTBwx",
    "outputId": "5877e2a4-5413-4771-d8e7-a7af5fe9550e"
   },
   "outputs": [
    {
     "data": {
      "image/png": "[encoded data removed]",
      "text/plain": [
       "<Figure size 432x288 with 1 Axes>"
      ]
     },
     "metadata": {
      "needs_background": "light"
     },
     "output_type": "display_data"
    }
   ],
   "source": [
    "fet=['V16','V17','V18']\n",
    "for i in fet:\n",
    "  sns.distplot(df[i])"
   ]
  },
  {
   "cell_type": "markdown",
   "metadata": {
    "colab_type": "text",
    "id": "YqD8uvK1piRj"
   },
   "source": [
    "### If there is skewness present in the distribution use:\n",
    "- <b>Power Transformer</b> package present in the <b>preprocessing library provided by sklearn</b> to make distribution more gaussian"
   ]
  },
  {
   "cell_type": "code",
   "execution_count": 16,
   "metadata": {
    "colab": {
     "base_uri": "https://localhost:8080/",
     "height": 238
    },
    "colab_type": "code",
    "id": "djGuX7qypiRj",
    "outputId": "159a8e9e-002e-489f-ec06-c12968108ea6"
   },
   "outputs": [
    {
     "data": {
      "text/plain": [
       "array([[-1.3219147 ,  1.32104187, -0.68354035, ..., -0.4448339 ,\n",
       "        -0.24728806,  0.33284735],\n",
       "       [-0.40195518,  0.70033947, -0.0056943 , ...,  0.34754881,\n",
       "         0.42901454, -0.47190914],\n",
       "       [ 0.12179853, -1.47928504, -0.83588928, ..., -0.24888141,\n",
       "         0.28212126,  1.94680256],\n",
       "       ...,\n",
       "       [ 1.48502918, -0.64373063, -1.06687013, ..., -0.14916882,\n",
       "        -0.15772833,  0.72358456],\n",
       "       [ 0.71520254, -0.02015591, -0.29804278, ..., -0.11903965,\n",
       "         0.02035731, -1.27117686],\n",
       "       [ 1.61159573, -0.44383285, -0.90296892, ..., -0.1523038 ,\n",
       "        -0.17657672, -0.16240034]])"
      ]
     },
     "execution_count": 16,
     "metadata": {},
     "output_type": "execute_result"
    }
   ],
   "source": [
    "# - Apply : preprocessing.PowerTransformer(copy=False) to fit & transform the train & test data\n",
    "from sklearn.preprocessing import PowerTransformer\n",
    "pt = PowerTransformer(copy = False)\n",
    "pt.fit_transform(X_train)\n",
    "pt.transform(X_test)"
   ]
  },
  {
   "cell_type": "code",
   "execution_count": 17,
   "metadata": {
    "colab": {
     "base_uri": "https://localhost:8080/",
     "height": 296
    },
    "colab_type": "code",
    "id": "IxRsJZTapiRm",
    "outputId": "87d5e226-e6a0-4b74-fb28-5823e9023ebe"
   },
   "outputs": [
    {
     "name": "stderr",
     "output_type": "stream",
     "text": [
      "C:\\Users\\viraj\\Anaconda3\\lib\\site-packages\\scipy\\stats\\stats.py:1713: FutureWarning: Using a non-tuple sequence for multidimensional indexing is deprecated; use `arr[tuple(seq)]` instead of `arr[seq]`. In the future this will be interpreted as an array index, `arr[np.array(seq)]`, which will result either in an error or a different result.\n",
      "  return np.add.reduce(sorted[indexer] * weights, axis=axis) / sumval\n"
     ]
    },
    {
     "data": {
      "text/plain": [
       "<matplotlib.axes._subplots.AxesSubplot at 0x241af4802b0>"
      ]
     },
     "execution_count": 17,
     "metadata": {},
     "output_type": "execute_result"
    },
    {
     "data": {
      "image/png": "[encoded data removed]",
      "text/plain": [
       "<Figure size 432x288 with 1 Axes>"
      ]
     },
     "metadata": {
      "needs_background": "light"
     },
     "output_type": "display_data"
    }
   ],
   "source": [
    "# plot the histogram of a variable from the dataset again to see the result \n",
    "sns.distplot(X_train.V1)"
   ]
  },
  {
   "cell_type": "code",
   "execution_count": 18,
   "metadata": {},
   "outputs": [
    {
     "data": {
      "image/png": "[encoded data removed]",
      "text/plain": [
       "<Figure size 432x288 with 1 Axes>"
      ]
     },
     "metadata": {
      "needs_background": "light"
     },
     "output_type": "display_data"
    }
   ],
   "source": [
    "fet=['V1','V2','V3']\n",
    "for i in fet:\n",
    "  sns.distplot(df[i])"
   ]
  },
  {
   "cell_type": "markdown",
   "metadata": {
    "colab_type": "text",
    "id": "Lk3pm97lpiRp"
   },
   "source": [
    "## Model Building on Imbalanced Data\n",
    "- Build different models on the imbalanced dataset and see the result"
   ]
  },
  {
   "cell_type": "code",
   "execution_count": 19,
   "metadata": {
    "colab": {},
    "colab_type": "code",
    "id": "CUPO3LtmpiRq"
   },
   "outputs": [],
   "source": [
    "# Logistic Regression\n",
    "from sklearn.linear_model import LogisticRegression #import the package\n",
    "from sklearn.metrics import roc_auc_score\n",
    "\n",
    "num_C = [20,40,50,60]  #--> list of values\n"
   ]
  },
  {
   "cell_type": "markdown",
   "metadata": {
    "colab_type": "text",
    "id": "SqZ4TTL9piRu"
   },
   "source": [
    "#### perfom cross validation on the X_train & y_train to create:\n",
    "- X_train_cv\n",
    "- X_test_cv \n",
    "- y_train_cv\n",
    "- y_test_cv "
   ]
  },
  {
   "cell_type": "markdown",
   "metadata": {},
   "source": [
    "### Logistic Regression  Without Balancing \n"
   ]
  },
  {
   "cell_type": "code",
   "execution_count": 25,
   "metadata": {},
   "outputs": [
    {
     "name": "stdout",
     "output_type": "stream",
     "text": [
      "C :  20  ROC Score  0.965492733486168\n",
      "C :  40  ROC Score  0.9654894064003625\n",
      "C :  50  ROC Score  0.9654891687513762\n",
      "C :  60  ROC Score  0.965489010318719\n"
     ]
    }
   ],
   "source": [
    "for i in num_C:\n",
    "    lr_2 = LogisticRegression(C=i, class_weight=None, dual=False,\n",
    "                   fit_intercept=True, intercept_scaling=1, l1_ratio=None,\n",
    "                   max_iter=100, multi_class='auto', n_jobs=-1, penalty='l2',\n",
    "                   random_state=1000, verbose=0,\n",
    "                   warm_start=False)\n",
    "    lr_2.fit(X_train, y_train)\n",
    "    y_pred_os = lr_2.predict_proba(X_test)\n",
    "    print('C : ',i,' ROC Score ',roc_auc_score(y_test, y_pred_os[:,1]))"
   ]
  },
  {
   "cell_type": "markdown",
   "metadata": {
    "colab_type": "text",
    "id": "JiN6uG_vrBgi"
   },
   "source": [
    "### Random Forest Without Balancing "
   ]
  },
  {
   "cell_type": "code",
   "execution_count": null,
   "metadata": {
    "colab": {
     "base_uri": "https://localhost:8080/",
     "height": 316
    },
    "colab_type": "code",
    "id": "tcia3riHukxP",
    "outputId": "473b703a-9209-43c4-cad8-e74aa30b5820"
   },
   "outputs": [
    {
     "name": "stdout",
     "output_type": "stream",
     "text": [
      "1 of KFold 3\n",
      "Fitting 5 folds for each of 15 candidates, totalling 75 fits\n"
     ]
    },
    {
     "name": "stderr",
     "output_type": "stream",
     "text": [
      "[Parallel(n_jobs=-1)]: Using backend LokyBackend with 2 concurrent workers.\n",
      "[Parallel(n_jobs=-1)]: Done  37 tasks      | elapsed: 13.2min\n",
      "[Parallel(n_jobs=-1)]: Done  75 out of  75 | elapsed: 68.4min finished\n"
     ]
    },
    {
     "name": "stdout",
     "output_type": "stream",
     "text": [
      "2 of KFold 3\n",
      "Fitting 5 folds for each of 15 candidates, totalling 75 fits\n"
     ]
    },
    {
     "name": "stderr",
     "output_type": "stream",
     "text": [
      "[Parallel(n_jobs=-1)]: Using backend LokyBackend with 2 concurrent workers.\n",
      "[Parallel(n_jobs=-1)]: Done  37 tasks      | elapsed: 13.2min\n",
      "[Parallel(n_jobs=-1)]: Done  75 out of  75 | elapsed: 68.6min finished\n"
     ]
    },
    {
     "name": "stdout",
     "output_type": "stream",
     "text": [
      "3 of KFold 3\n",
      "Fitting 5 folds for each of 15 candidates, totalling 75 fits\n"
     ]
    },
    {
     "name": "stderr",
     "output_type": "stream",
     "text": [
      "[Parallel(n_jobs=-1)]: Using backend LokyBackend with 2 concurrent workers.\n",
      "[Parallel(n_jobs=-1)]: Done  37 tasks      | elapsed: 12.6min\n",
      "[Parallel(n_jobs=-1)]: Done  75 out of  75 | elapsed: 65.4min finished\n"
     ]
    },
    {
     "name": "stdout",
     "output_type": "stream",
     "text": [
      "0.8931033916842956\n",
      "{'max_depth': 10, 'n_estimators': 100}\n"
     ]
    }
   ],
   "source": [
    "#perform cross validation\n",
    "from sklearn.model_selection import StratifiedKFold\n",
    "from sklearn.ensemble import RandomForestClassifier\n",
    "from sklearn.model_selection import GridSearchCV\n",
    "skf = StratifiedKFold(n_splits=3)\n",
    "param_grid = {'max_depth': [1,2,4,8,10],\n",
    "          'n_estimators': [100,200, 300]}\n",
    "folds = 5\n",
    "RF = RandomForestClassifier()\n",
    "i=1\n",
    "for train_index,test_index in skf.split(X_train,y_train):\n",
    "    print('{} of KFold {}'.format(i,skf.n_splits))\n",
    "    X_train_cv,X_test_cv = X_train.iloc[train_index],X_train.iloc[test_index]\n",
    "    y_train_cv,y_test_cv = y_train.iloc[train_index],y_train.iloc[test_index]\n",
    "\n",
    "    # specify model\n",
    "    RF = RandomForestClassifier(n_jobs=-1)  \n",
    "\n",
    "    # set up GridSearchCV()\n",
    "    model_cv = GridSearchCV(estimator = RF, \n",
    "                            param_grid = param_grid, \n",
    "                            scoring= 'roc_auc', \n",
    "                            cv = StratifiedKFold(), \n",
    "                            verbose = 2,\n",
    "                            n_jobs=-1,\n",
    "                            return_train_score=True)  \n",
    "    \n",
    "    model_cv.fit(X_train_cv, y_train_cv)\n",
    "    i+=1\n",
    "\n",
    "#print the evaluation result by choosing a evaluation metric\n",
    "\n",
    "y_pred = model_cv.predict(X_test_cv)\n",
    "print(roc_auc_score(y_test_cv, y_pred))\n",
    "\n",
    "#print the optimum value of hyperparameters\n",
    "\n",
    "print(model_cv.best_params_)"
   ]
  },
  {
   "cell_type": "code",
   "execution_count": null,
   "metadata": {
    "colab": {
     "base_uri": "https://localhost:8080/",
     "height": 316
    },
    "colab_type": "code",
    "id": "PiNkLTbOxIvW",
    "outputId": "253b27c1-39d8-4812-dfcd-c15be9691b92"
   },
   "outputs": [
    {
     "name": "stdout",
     "output_type": "stream",
     "text": [
      "1 of KFold 3\n",
      "Fitting 5 folds for each of 9 candidates, totalling 45 fits\n"
     ]
    },
    {
     "name": "stderr",
     "output_type": "stream",
     "text": [
      "[Parallel(n_jobs=-1)]: Using backend LokyBackend with 2 concurrent workers.\n",
      "[Parallel(n_jobs=-1)]: Done  37 tasks      | elapsed: 28.3min\n",
      "[Parallel(n_jobs=-1)]: Done  45 out of  45 | elapsed: 37.3min finished\n"
     ]
    },
    {
     "name": "stdout",
     "output_type": "stream",
     "text": [
      "2 of KFold 3\n",
      "Fitting 5 folds for each of 9 candidates, totalling 45 fits\n"
     ]
    },
    {
     "name": "stderr",
     "output_type": "stream",
     "text": [
      "[Parallel(n_jobs=-1)]: Using backend LokyBackend with 2 concurrent workers.\n",
      "[Parallel(n_jobs=-1)]: Done  37 tasks      | elapsed: 27.7min\n",
      "[Parallel(n_jobs=-1)]: Done  45 out of  45 | elapsed: 36.7min finished\n"
     ]
    },
    {
     "name": "stdout",
     "output_type": "stream",
     "text": [
      "3 of KFold 3\n",
      "Fitting 5 folds for each of 9 candidates, totalling 45 fits\n"
     ]
    },
    {
     "name": "stderr",
     "output_type": "stream",
     "text": [
      "[Parallel(n_jobs=-1)]: Using backend LokyBackend with 2 concurrent workers.\n",
      "[Parallel(n_jobs=-1)]: Done  37 tasks      | elapsed: 28.5min\n",
      "[Parallel(n_jobs=-1)]: Done  45 out of  45 | elapsed: 37.4min finished\n"
     ]
    },
    {
     "name": "stdout",
     "output_type": "stream",
     "text": [
      "0.8969267804044431\n",
      "{'max_depth': 12, 'n_estimators': 100}\n"
     ]
    }
   ],
   "source": [
    "#perform cross validation \n",
    "# Running 1 more iteration for finding best parm as we got the border values \n",
    "from sklearn.model_selection import StratifiedKFold\n",
    "from sklearn.ensemble import RandomForestClassifier\n",
    "from sklearn.model_selection import GridSearchCV\n",
    "from sklearn.metrics import roc_auc_score\n",
    "skf = StratifiedKFold(n_splits=3)\n",
    "param_grid = {'max_depth': [10,12,15],\n",
    "          'n_estimators': [50,70,100]}\n",
    "folds = 5\n",
    "\n",
    "i=1\n",
    "for train_index,test_index in skf.split(X_train,y_train):\n",
    "    print('{} of KFold {}'.format(i,skf.n_splits))\n",
    "    X_train_cv,X_test_cv = X_train.iloc[train_index],X_train.iloc[test_index]\n",
    "    y_train_cv,y_test_cv = y_train.iloc[train_index],y_train.iloc[test_index]\n",
    "\n",
    "    # specify model\n",
    "    RF = RandomForestClassifier(n_jobs=-1)  \n",
    "\n",
    "    # set up GridSearchCV()\n",
    "    model_cv = GridSearchCV(estimator = RF, \n",
    "                          param_grid = param_grid, \n",
    "                          scoring= 'roc_auc', \n",
    "                          cv = StratifiedKFold(n_splits=5, shuffle=True), \n",
    "                          verbose = 2,\n",
    "                          n_jobs=-1,\n",
    "                          return_train_score=True)   \n",
    "    \n",
    "    model_cv.fit(X_train_cv, y_train_cv)\n",
    "    i+=1\n",
    "\n",
    "#print the evaluation result by choosing a evaluation metric\n",
    "\n",
    "y_pred = model_cv.predict(X_test_cv)\n",
    "print(roc_auc_score(y_test_cv, y_pred))\n",
    "\n",
    "#print the optimum value of hyperparameters\n",
    "\n",
    "print(model_cv.best_params_)"
   ]
  },
  {
   "cell_type": "markdown",
   "metadata": {},
   "source": [
    "##### Optimal Model: Random Forest"
   ]
  },
  {
   "cell_type": "code",
   "execution_count": null,
   "metadata": {
    "colab": {
     "base_uri": "https://localhost:8080/",
     "height": 34
    },
    "colab_type": "code",
    "id": "pMkQN1eaxKXE",
    "outputId": "80632d29-c415-4bca-cc11-37f7ba19dbec"
   },
   "outputs": [
    {
     "name": "stdout",
     "output_type": "stream",
     "text": [
      "0.975681683759604\n"
     ]
    }
   ],
   "source": [
    "from sklearn.ensemble import RandomForestClassifier\n",
    "from sklearn.metrics import roc_auc_score\n",
    "clf = RandomForestClassifier(n_jobs=-1,max_depth=12,n_estimators=100)  \n",
    "clf.fit(X_train, y_train)\n",
    "y_pred_un = clf.predict_proba(X_test)\n",
    "print(roc_auc_score(y_test, y_pred_un[:,1])) #print the evaluation score on the X_test by choosing the best evaluation metric"
   ]
  },
  {
   "cell_type": "markdown",
   "metadata": {},
   "source": [
    "### XGBOOST without Balancing  "
   ]
  },
  {
   "cell_type": "code",
   "execution_count": null,
   "metadata": {
    "colab": {},
    "colab_type": "code",
    "id": "lp-XZOoxpiR0",
    "outputId": "f2ace1c7-b43d-4dc0-fd0b-2a30d6f5842e"
   },
   "outputs": [
    {
     "name": "stdout",
     "output_type": "stream",
     "text": [
      "1 of KFold 3\n",
      "Fitting 5 folds for each of 6 candidates, totalling 30 fits\n"
     ]
    },
    {
     "name": "stderr",
     "output_type": "stream",
     "text": [
      "[Parallel(n_jobs=-1)]: Using backend LokyBackend with 2 concurrent workers.\n",
      "[Parallel(n_jobs=-1)]: Done  30 out of  30 | elapsed: 13.3min finished\n"
     ]
    },
    {
     "name": "stdout",
     "output_type": "stream",
     "text": [
      "2 of KFold 3\n",
      "Fitting 5 folds for each of 6 candidates, totalling 30 fits\n"
     ]
    },
    {
     "name": "stderr",
     "output_type": "stream",
     "text": [
      "[Parallel(n_jobs=-1)]: Using backend LokyBackend with 2 concurrent workers.\n",
      "[Parallel(n_jobs=-1)]: Done  30 out of  30 | elapsed: 13.1min finished\n"
     ]
    },
    {
     "name": "stdout",
     "output_type": "stream",
     "text": [
      "3 of KFold 3\n",
      "Fitting 5 folds for each of 6 candidates, totalling 30 fits\n"
     ]
    },
    {
     "name": "stderr",
     "output_type": "stream",
     "text": [
      "[Parallel(n_jobs=-1)]: Using backend LokyBackend with 2 concurrent workers.\n",
      "[Parallel(n_jobs=-1)]: Done  30 out of  30 | elapsed: 13.3min finished\n"
     ]
    },
    {
     "name": "stdout",
     "output_type": "stream",
     "text": [
      "0.8930967968572779\n",
      "{'learning_rate': 0.2, 'subsample': 0.9}\n"
     ]
    }
   ],
   "source": [
    "#perform cross validation\n",
    "from sklearn.model_selection import StratifiedKFold\n",
    "import xgboost as xgb\n",
    "from xgboost import XGBClassifier\n",
    "from sklearn.model_selection import GridSearchCV\n",
    "from sklearn.metrics import roc_auc_score\n",
    "skf = StratifiedKFold(n_splits=3)\n",
    "i=1\n",
    "for train_index,test_index in skf.split(X_train,y_train):\n",
    "    print('{} of KFold {}'.format(i,skf.n_splits))\n",
    "    X_train_cv,X_test_cv = X_train.iloc[train_index],X_train.iloc[test_index]\n",
    "    y_train_cv,y_test_cv = y_train.iloc[train_index],y_train.iloc[test_index]\n",
    "\n",
    "\n",
    "    #perform hyperparameter tuning\n",
    "    param_grid = {'learning_rate': [0.2, 0.6], \n",
    "             'subsample': [0.3, 0.6, 0.9]}          \n",
    "\n",
    "\n",
    "    # specify model\n",
    "    xgb_model = XGBClassifier(max_depth=2, n_estimators=200)\n",
    "\n",
    "    # set up GridSearchCV()\n",
    "    model_cv = GridSearchCV(estimator = xgb_model, \n",
    "                            param_grid = param_grid, \n",
    "                            scoring= 'roc_auc', \n",
    "                            cv = StratifiedKFold(), \n",
    "                            verbose = 2,\n",
    "                            n_jobs=-1,\n",
    "                            return_train_score=True)  \n",
    "    model_cv.fit(X_train_cv, y_train_cv)\n",
    "    i+=1\n",
    "#print the evaluation result by choosing a evaluation metric\n",
    "y_pred = model_cv.predict(X_test_cv)\n",
    "print(roc_auc_score(y_test_cv, y_pred))\n",
    "#print the optimum value of hyperparameters\n",
    "print(model_cv.best_params_)"
   ]
  },
  {
   "cell_type": "markdown",
   "metadata": {},
   "source": [
    "##### Optimal model: XGBoost"
   ]
  },
  {
   "cell_type": "code",
   "execution_count": 30,
   "metadata": {
    "colab": {},
    "colab_type": "code",
    "id": "ShpAAz9jpiR4",
    "outputId": "6888808d-b531-449c-8bf5-e60d42dc5938"
   },
   "outputs": [
    {
     "name": "stdout",
     "output_type": "stream",
     "text": [
      "0.9696312717547844\n"
     ]
    }
   ],
   "source": [
    "clf = XGBClassifier(max_depth=2, n_estimators=200,learning_rate = 0.2, subsample = 0.9,objective = 'binary:logistic')  #initialise the model with optimum hyperparameters\n",
    "clf.fit(X_train, y_train)\n",
    "y_pred_un = clf.predict_proba(X_test)\n",
    "print(roc_auc_score(y_test, y_pred_un[:,1])) #print the evaluation score on the X_test by choosing the best evaluation metric"
   ]
  },
  {
   "cell_type": "markdown",
   "metadata": {
    "colab_type": "text",
    "id": "1onhs_VSpiR7"
   },
   "source": [
    "### Print the important features of the best model to understand the dataset\n",
    "- This will not give much explanation on the already transformed dataset\n",
    "- But it will help us in understanding if the dataset is not PCA transformed"
   ]
  },
  {
   "cell_type": "code",
   "execution_count": 31,
   "metadata": {
    "colab": {},
    "colab_type": "code",
    "id": "v0T4k2YApiR7",
    "outputId": "e0086f30-67bd-4fc8-a02b-350729f9063a"
   },
   "outputs": [
    {
     "name": "stdout",
     "output_type": "stream",
     "text": [
      "Top var = 17\n",
      "2nd Top var = 14\n",
      "3rd Top var = 10\n"
     ]
    },
    {
     "data": {
      "text/plain": [
       "<matplotlib.legend.Legend at 0x206119c2550>"
      ]
     },
     "execution_count": 31,
     "metadata": {},
     "output_type": "execute_result"
    },
    {
     "data": {
      "image/png": "[encoded data removed]",
      "text/plain": [
       "<Figure size 1440x1440 with 1 Axes>"
      ]
     },
     "metadata": {
      "needs_background": "light"
     },
     "output_type": "display_data"
    }
   ],
   "source": [
    "# Printing IMP features for the best model we got ie XGB(Clf)\n",
    "var_imp = []\n",
    "for i in clf.feature_importances_:\n",
    "    var_imp.append(i)\n",
    "print('Top var =', var_imp.index(np.sort(clf.feature_importances_)[-1])+1)\n",
    "print('2nd Top var =', var_imp.index(np.sort(clf.feature_importances_)[-2])+1)\n",
    "print('3rd Top var =', var_imp.index(np.sort(clf.feature_importances_)[-3])+1)\n",
    "\n",
    "# Variable on Index-16 and Index-13 seems to be the top 2 variables\n",
    "top_var_index = var_imp.index(np.sort(clf.feature_importances_)[-1])\n",
    "second_top_var_index = var_imp.index(np.sort(clf.feature_importances_)[-2])\n",
    "\n",
    "X_train_1 = X_train.to_numpy()[np.where(y_train==1.0)]\n",
    "X_train_0 = X_train.to_numpy()[np.where(y_train==0.0)]\n",
    "\n",
    "np.random.shuffle(X_train_0)\n",
    "\n",
    "import matplotlib.pyplot as plt\n",
    "%matplotlib inline\n",
    "plt.rcParams['figure.figsize'] = [20, 20]\n",
    "\n",
    "plt.scatter(X_train_1[:, top_var_index], X_train_1[:, second_top_var_index], label='Actual Class-1 Examples')\n",
    "plt.scatter(X_train_0[:X_train_1.shape[0], top_var_index], X_train_0[:X_train_1.shape[0], second_top_var_index],\n",
    "            label='Actual Class-0 Examples')\n",
    "plt.legend()"
   ]
  },
  {
   "cell_type": "markdown",
   "metadata": {
    "colab_type": "text",
    "id": "TtHC4vedpiR-"
   },
   "source": [
    "## Model building with balancing Classes\n",
    "\n",
    "##### Perform class balancing with :\n",
    "- Random Oversampling\n",
    "- SMOTE\n",
    "- ADASYN"
   ]
  },
  {
   "cell_type": "markdown",
   "metadata": {
    "colab_type": "text",
    "id": "XWJq-yQdpiR_"
   },
   "source": [
    "## Model Building\n",
    "- Build different models on the balanced dataset and see the result"
   ]
  },
  {
   "cell_type": "markdown",
   "metadata": {
    "colab_type": "text",
    "id": "x1lrQeIKpiSC"
   },
   "source": [
    "#### perfom cross validation on the X_train & y_train to create:\n",
    "- X_train_cv\n",
    "- X_test_cv \n",
    "- y_train_cv\n",
    "- y_test_cv "
   ]
  },
  {
   "cell_type": "markdown",
   "metadata": {
    "colab_type": "text",
    "id": "-Cf_Rr6OpiSD"
   },
   "source": [
    "## Model Building: Random Oversampling"
   ]
  },
  {
   "cell_type": "markdown",
   "metadata": {},
   "source": [
    "### Logistic Regresion With Balancing "
   ]
  },
  {
   "cell_type": "code",
   "execution_count": 34,
   "metadata": {
    "colab": {},
    "colab_type": "code",
    "id": "G3CMECIhpiSA"
   },
   "outputs": [
    {
     "name": "stdout",
     "output_type": "stream",
     "text": [
      "C 0.01 ROC AUC:  0.9278344790655009\n",
      "C 0.1 ROC AUC:  0.9274124144661693\n",
      "C 20 ROC AUC:  0.927271726266392\n",
      "C 30 ROC AUC:  0.927271726266392\n",
      "C 100 ROC AUC:  0.927271726266392\n"
     ]
    }
   ],
   "source": [
    "# Logistic Regression\n",
    "from sklearn import linear_model #import the package\n",
    "import warnings\n",
    "warnings.filterwarnings(\"ignore\")\n",
    "\n",
    "num_C = [0.01,0.1,20,30,100] \n",
    "from sklearn.metrics import roc_auc_score\n",
    "for i in num_C:\n",
    "    \n",
    "    lr_1 = LogisticRegression(C=i,penalty='l2', solver='lbfgs', \n",
    "                          class_weight='balanced',max_iter=1000,\n",
    "                          random_state=1000, tol=0.0001, verbose=0)\n",
    "    lr_1.fit(X_train, y_train)\n",
    "    y_pred_l1 = lr_1.predict(X_test)\n",
    "    print(\"C\",i,\"ROC AUC: \",roc_auc_score(y_test, y_pred_l1))"
   ]
  },
  {
   "cell_type": "markdown",
   "metadata": {},
   "source": [
    "### Random Forest with Balancing"
   ]
  },
  {
   "cell_type": "code",
   "execution_count": null,
   "metadata": {
    "colab": {
     "base_uri": "https://localhost:8080/",
     "height": 306
    },
    "colab_type": "code",
    "id": "Fcn1nPW_I4v7",
    "outputId": "03c98694-14ce-44ab-ee60-b8e40a15405d",
    "scrolled": false
   },
   "outputs": [
    {
     "name": "stdout",
     "output_type": "stream",
     "text": [
      "1 of KFold 3\n",
      "Fitting 5 folds for each of 9 candidates, totalling 45 fits\n"
     ]
    },
    {
     "name": "stderr",
     "output_type": "stream",
     "text": [
      "[Parallel(n_jobs=-1)]: Using backend LokyBackend with 2 concurrent workers.\n",
      "[Parallel(n_jobs=-1)]: Done  37 tasks      | elapsed: 26.7min\n",
      "[Parallel(n_jobs=-1)]: Done  45 out of  45 | elapsed: 36.1min finished\n"
     ]
    },
    {
     "name": "stdout",
     "output_type": "stream",
     "text": [
      "2 of KFold 3\n",
      "Fitting 5 folds for each of 9 candidates, totalling 45 fits\n"
     ]
    },
    {
     "name": "stderr",
     "output_type": "stream",
     "text": [
      "[Parallel(n_jobs=-1)]: Using backend LokyBackend with 2 concurrent workers.\n",
      "[Parallel(n_jobs=-1)]: Done  37 tasks      | elapsed: 26.7min\n",
      "[Parallel(n_jobs=-1)]: Done  45 out of  45 | elapsed: 36.7min finished\n"
     ]
    },
    {
     "name": "stdout",
     "output_type": "stream",
     "text": [
      "3 of KFold 3\n",
      "Fitting 5 folds for each of 9 candidates, totalling 45 fits\n"
     ]
    },
    {
     "name": "stderr",
     "output_type": "stream",
     "text": [
      "[Parallel(n_jobs=-1)]: Using backend LokyBackend with 2 concurrent workers.\n",
      "[Parallel(n_jobs=-1)]: Done  37 tasks      | elapsed: 26.9min\n",
      "[Parallel(n_jobs=-1)]: Done  45 out of  45 | elapsed: 37.4min finished\n"
     ]
    },
    {
     "name": "stdout",
     "output_type": "stream",
     "text": [
      "0.9331030815763992\n",
      "{'max_depth': 4, 'n_estimators': 200}\n"
     ]
    }
   ],
   "source": [
    "from imblearn import over_sampling     #- import the packages\n",
    "\n",
    "## We are using Gridserach CV to check accuracy accross below combination and we will be building  our final model on the best found parm\n",
    "## we will be checking performance on max depth 4, 8 and 10 and estimators of 100 , 200 & 300 \n",
    "\n",
    "from sklearn.model_selection import StratifiedKFold\n",
    "from sklearn.ensemble import RandomForestClassifier\n",
    "from sklearn.model_selection import GridSearchCV\n",
    "from sklearn.metrics import roc_auc_score\n",
    "skf = StratifiedKFold(n_splits=3)\n",
    "param_grid = {'max_depth': [4,8,10],\n",
    "          'n_estimators': [100,200, 300]}\n",
    "folds = 5\n",
    "i=1\n",
    "#perform cross validation & then balance classes on X_train_cv & y_train_cv using Random Oversampling\n",
    "\n",
    "for train_index,test_index in skf.split(X_train,y_train):\n",
    "    print('{} of KFold {}'.format(i,skf.n_splits))\n",
    "    X_train_cv,X_test_cv = X_train.iloc[train_index],X_train.iloc[test_index]\n",
    "    y_train_cv,y_test_cv = y_train.iloc[train_index],y_train.iloc[test_index]\n",
    "\n",
    "    # specify model\n",
    "    RF = RandomForestClassifier(n_jobs=-1,class_weight='balanced')  \n",
    "\n",
    "    # set up GridSearchCV()\n",
    "    model_cv = GridSearchCV(estimator = RF, \n",
    "                            param_grid = param_grid, \n",
    "                            scoring= 'roc_auc', \n",
    "                            cv = StratifiedKFold(n_splits=5, shuffle=True), \n",
    "                            verbose = 2,\n",
    "                            n_jobs=-1,\n",
    "                            return_train_score=True)  \n",
    "    \n",
    "    model_cv.fit(X_train_cv, y_train_cv)\n",
    "    i+=1\n",
    "\n",
    "#print the evaluation result by choosing a evaluation metric\n",
    "\n",
    "y_pred = model_cv.predict(X_test_cv)\n",
    "print(roc_auc_score(y_test_cv, y_pred))\n",
    "\n",
    "#print the optimum value of hyperparameters\n",
    "\n",
    "print(model_cv.best_params_)\n",
    "\n"
   ]
  },
  {
   "cell_type": "markdown",
   "metadata": {},
   "source": [
    "##### Optimal Model:  Random Forest with Balancing"
   ]
  },
  {
   "cell_type": "code",
   "execution_count": null,
   "metadata": {
    "colab": {
     "base_uri": "https://localhost:8080/",
     "height": 34
    },
    "colab_type": "code",
    "id": "1Trqxkpmg2iD",
    "outputId": "a2e0d355-54a8-4395-a3e0-9c2c9d6c8e3e"
   },
   "outputs": [
    {
     "name": "stdout",
     "output_type": "stream",
     "text": [
      "0.9740935766540718\n"
     ]
    }
   ],
   "source": [
    "clf1 = RandomForestClassifier(n_jobs=-1,max_depth=4,n_estimators=200,class_weight='balanced')  \n",
    "clf1.fit(X_train, y_train)\n",
    "y_pred_un = clf1.predict_proba(X_test)\n",
    "print(roc_auc_score(y_test, y_pred_un[:,1])) #print the evaluation score on the X_test by choosing the best evaluation metric"
   ]
  },
  {
   "cell_type": "markdown",
   "metadata": {
    "colab_type": "text",
    "id": "-Cf_Rr6OpiSD"
   },
   "source": [
    "### XGBoost with Random Oversampling"
   ]
  },
  {
   "cell_type": "code",
   "execution_count": null,
   "metadata": {
    "colab": {
     "base_uri": "https://localhost:8080/",
     "height": 207
    },
    "colab_type": "code",
    "id": "QnosaON_piSD",
    "outputId": "c9cd1f9c-3b2e-4a32-96e4-22ba7ff57364",
    "scrolled": true
   },
   "outputs": [
    {
     "name": "stdout",
     "output_type": "stream",
     "text": [
      "Fitting 5 folds for each of 18 candidates, totalling 90 fits\n"
     ]
    },
    {
     "name": "stderr",
     "output_type": "stream",
     "text": [
      "/usr/local/lib/python3.6/dist-packages/sklearn/utils/deprecation.py:87: FutureWarning: Function safe_indexing is deprecated; safe_indexing is deprecated in version 0.22 and will be removed in version 0.24.\n",
      "  warnings.warn(msg, category=FutureWarning)\n",
      "/usr/local/lib/python3.6/dist-packages/sklearn/utils/deprecation.py:87: FutureWarning: Function safe_indexing is deprecated; safe_indexing is deprecated in version 0.22 and will be removed in version 0.24.\n",
      "  warnings.warn(msg, category=FutureWarning)\n",
      "[Parallel(n_jobs=-1)]: Using backend LokyBackend with 2 concurrent workers.\n",
      "[Parallel(n_jobs=-1)]: Done  37 tasks      | elapsed: 56.3min\n",
      "[Parallel(n_jobs=-1)]: Done  90 out of  90 | elapsed: 141.7min finished\n"
     ]
    },
    {
     "name": "stdout",
     "output_type": "stream",
     "text": [
      "0.930069991558807\n",
      "{'learning_rate': 0.2, 'max_depth': 5, 'subsample': 0.3}\n"
     ]
    }
   ],
   "source": [
    "from imblearn.over_sampling import RandomOverSampler #- import the packages\n",
    "from sklearn.model_selection import StratifiedKFold\n",
    "import xgboost as xgb\n",
    "from xgboost import XGBClassifier\n",
    "from sklearn.model_selection import GridSearchCV\n",
    "from sklearn.metrics import roc_auc_score\n",
    "#perform cross validation & then balance classes on X_train_cv & y_train_cv using Random Oversampling\n",
    "ros = RandomOverSampler(random_state=42)\n",
    "X_train_cv, y_train_cv = ros.fit_resample(X_train, y_train)\n",
    "X_test_cv, y_test_cv = ros.fit_resample(X_test, y_test)\n",
    "\n",
    "#perform hyperparameter tuning\n",
    "param_grid = {'learning_rate': [0.2, 0.6], \n",
    "          'subsample': [0.3, 0.6, 0.9],\n",
    "          'max_depth' : [2,3,5]\n",
    "          }          \n",
    "\n",
    "# specify model\n",
    "xgb_model_os = XGBClassifier(n_estimators=200)\n",
    "\n",
    "# set up GridSearchCV()\n",
    "model_cv_os = GridSearchCV(estimator = xgb_model_os, \n",
    "                          param_grid = param_grid, \n",
    "                          scoring= 'roc_auc', \n",
    "                          cv = StratifiedKFold(n_splits=5, shuffle=True), \n",
    "                          verbose = 2,\n",
    "                          n_jobs=-1,\n",
    "                          return_train_score=True)  \n",
    "model_cv_os.fit(X_train_cv, y_train_cv)\n",
    "#print the evaluation result by choosing a evaluation metric\n",
    "y_pred = model_cv_os.predict(X_test_cv)\n",
    "print(roc_auc_score(y_test_cv, y_pred))\n",
    "#print the optimum value of hyperparameters\n",
    "print(model_cv_os.best_params_)\n"
   ]
  },
  {
   "cell_type": "markdown",
   "metadata": {},
   "source": [
    "##### Optimal Model: XGBoost with Random Oversampling"
   ]
  },
  {
   "cell_type": "code",
   "execution_count": 36,
   "metadata": {
    "colab": {
     "base_uri": "https://localhost:8080/",
     "height": 34
    },
    "colab_type": "code",
    "id": "YL8HlebhPJK4",
    "outputId": "b8e4c9d5-b31c-4b68-ed9a-b4fdda59db4d"
   },
   "outputs": [
    {
     "name": "stdout",
     "output_type": "stream",
     "text": [
      "0.9730071152106441\n"
     ]
    }
   ],
   "source": [
    "clf_os = XGBClassifier(max_depth=5, n_estimators=200,learning_rate = 0.2, subsample = 0.3,objective = 'binary:logistic')  #initialise the model with optimum hyperparameters\n",
    "clf_os.fit(X_train_cv, y_train_cv)\n",
    "y_pred_os = clf_os.predict_proba(X_test)\n",
    "print(roc_auc_score(y_test, y_pred_os[:,1])) #print the evaluation score on the X_test by choosing the best evaluation metric"
   ]
  },
  {
   "cell_type": "markdown",
   "metadata": {
    "colab_type": "text",
    "id": "AzSv7EqFPJLC"
   },
   "source": [
    "### Print the important features of the best model to understand the dataset\n",
    "- This will not give much explanation on the already transformed dataset\n",
    "- But it will help us in understanding if the dataset is not PCA transformed"
   ]
  },
  {
   "cell_type": "code",
   "execution_count": 37,
   "metadata": {
    "colab": {
     "base_uri": "https://localhost:8080/",
     "height": 1000
    },
    "colab_type": "code",
    "id": "CsquZsF-PJLE",
    "outputId": "d45273ad-ea8f-48b1-8298-2d6183bc2a2c"
   },
   "outputs": [
    {
     "name": "stdout",
     "output_type": "stream",
     "text": [
      "Top var = 14\n",
      "2nd Top var = 4\n",
      "3rd Top var = 12\n"
     ]
    },
    {
     "data": {
      "text/plain": [
       "<matplotlib.legend.Legend at 0x20610529828>"
      ]
     },
     "execution_count": 37,
     "metadata": {},
     "output_type": "execute_result"
    },
    {
     "data": {
      "image/png": "[encoded data removed]",
      "text/plain": [
       "<Figure size 1440x1440 with 1 Axes>"
      ]
     },
     "metadata": {
      "needs_background": "light"
     },
     "output_type": "display_data"
    }
   ],
   "source": [
    "var_imp = []\n",
    "for i in clf_os.feature_importances_:\n",
    "    var_imp.append(i)\n",
    "print('Top var =', var_imp.index(np.sort(clf_os.feature_importances_)[-1])+1)\n",
    "print('2nd Top var =', var_imp.index(np.sort(clf_os.feature_importances_)[-2])+1)\n",
    "print('3rd Top var =', var_imp.index(np.sort(clf_os.feature_importances_)[-3])+1)\n",
    "\n",
    "# Variable on Index-16 and Index-13 seems to be the top 2 variables\n",
    "top_var_index = var_imp.index(np.sort(clf_os.feature_importances_)[-1])\n",
    "second_top_var_index = var_imp.index(np.sort(clf_os.feature_importances_)[-2])\n",
    "\n",
    "X_train_1 = X_train.to_numpy()[np.where(y_train==1.0)]\n",
    "X_train_0 = X_train.to_numpy()[np.where(y_train==0.0)]\n",
    "\n",
    "np.random.shuffle(X_train_0)\n",
    "\n",
    "import matplotlib.pyplot as plt\n",
    "%matplotlib inline\n",
    "plt.rcParams['figure.figsize'] = [20, 20]\n",
    "\n",
    "plt.scatter(X_train_1[:, top_var_index], X_train_1[:, second_top_var_index], label='Actual Class-1 Examples')\n",
    "plt.scatter(X_train_0[:X_train_1.shape[0], top_var_index], X_train_0[:X_train_1.shape[0], second_top_var_index],\n",
    "            label='Actual Class-0 Examples')\n",
    "plt.legend()"
   ]
  },
  {
   "cell_type": "markdown",
   "metadata": {
    "colab_type": "text",
    "id": "JatQp3uLpiSI"
   },
   "source": [
    "## Model Building: SMOTE "
   ]
  },
  {
   "cell_type": "code",
   "execution_count": 23,
   "metadata": {
    "colab": {
     "base_uri": "https://localhost:8080/",
     "height": 1000
    },
    "colab_type": "code",
    "id": "rME7I5QppiSJ",
    "outputId": "c90a2e83-da1e-4285-e811-e7dbf504a074"
   },
   "outputs": [
    {
     "data": {
      "text/plain": [
       "<matplotlib.legend.Legend at 0x241cdc6db38>"
      ]
     },
     "execution_count": 23,
     "metadata": {},
     "output_type": "execute_result"
    },
    {
     "data": {
      "image/png": "[encoded data removed]",
      "text/plain": [
       "<Figure size 1440x1440 with 3 Axes>"
      ]
     },
     "metadata": {
      "needs_background": "light"
     },
     "output_type": "display_data"
    }
   ],
   "source": [
    "import warnings\n",
    "warnings.filterwarnings(\"ignore\")\n",
    "from imblearn import over_sampling\n",
    "\n",
    "sm = over_sampling.SMOTE(random_state=42)\n",
    "X_train_smote, y_train_smote = sm.fit_resample(X_train, y_train)\n",
    "X_test_smote, y_test_smote = sm.fit_resample(X_test, y_test)\n",
    "# Artificial minority samples and corresponding minority labels from SMOTE are appended\n",
    "# below X_train and y_train respectively\n",
    "# So to exclusively get the artificial minority samples from SMOTE, we do\n",
    "X_train_smote_1 = X_train_smote[X_train.shape[0]:]\n",
    "\n",
    "X_train_1 = X_train.to_numpy()[np.where(y_train==1.0)]\n",
    "X_train_0 = X_train.to_numpy()[np.where(y_train==0.0)]\n",
    "\n",
    "\n",
    "plt.rcParams['figure.figsize'] = [20, 20]\n",
    "fig = plt.figure()\n",
    "\n",
    "plt.subplot(3, 1, 1)\n",
    "plt.scatter(X_train_1[:, 0], X_train_1[:, 1], label='Actual Class-1 Examples')\n",
    "plt.legend()\n",
    "\n",
    "plt.subplot(3, 1, 2)\n",
    "plt.scatter(X_train_1[:, 0], X_train_1[:, 1], label='Actual Class-1 Examples')\n",
    "plt.scatter(X_train_smote_1.iloc[:X_train_1.shape[0], 0], X_train_smote_1.iloc[:X_train_1.shape[0], 1],\n",
    "            label='Artificial SMOTE Class-1 Examples')\n",
    "plt.legend()\n",
    "\n",
    "plt.subplot(3, 1, 3)\n",
    "plt.scatter(X_train_1[:, 0], X_train_1[:, 1], label='Actual Class-1 Examples')\n",
    "plt.scatter(X_train_0[:X_train_1.shape[0], 0], X_train_0[:X_train_1.shape[0], 1], label='Actual Class-0 Examples')\n",
    "plt.legend()"
   ]
  },
  {
   "cell_type": "markdown",
   "metadata": {},
   "source": [
    "### Logistic Regression With SMOTE "
   ]
  },
  {
   "cell_type": "code",
   "execution_count": 24,
   "metadata": {},
   "outputs": [
    {
     "name": "stdout",
     "output_type": "stream",
     "text": [
      "C :  0.01  ROC Score  0.9685893789915127\n",
      "C :  0.1  ROC Score  0.9681751568087227\n",
      "C :  20  ROC Score  0.9681190320398363\n",
      "C :  30  ROC Score  0.9681183983092065\n",
      "C :  100  ROC Score  0.9681182398765492\n"
     ]
    }
   ],
   "source": [
    "for i in num_C:\n",
    "    lr_sm = LogisticRegression(C=i, class_weight=None, dual=False,\n",
    "                   fit_intercept=True, intercept_scaling=1, l1_ratio=None,\n",
    "                   max_iter=100, multi_class='auto', n_jobs=-1, penalty='l2',\n",
    "                   random_state=1000, solver='lbfgs', tol=0.0001, verbose=0,\n",
    "                   warm_start=False)\n",
    "    lr_sm.fit(X_train_smote, y_train_smote)\n",
    "    y_pred_os = lr_sm.predict_proba(X_test)\n",
    "    print('C : ',i,' ROC Score ',roc_auc_score(y_test, y_pred_os[:,1])) "
   ]
  },
  {
   "cell_type": "markdown",
   "metadata": {},
   "source": [
    "### XGBoost with SMOTE "
   ]
  },
  {
   "cell_type": "code",
   "execution_count": 18,
   "metadata": {
    "colab": {
     "base_uri": "https://localhost:8080/",
     "height": 119
    },
    "colab_type": "code",
    "id": "5Lemx2YXpiSN",
    "outputId": "b73f8e4e-2ab8-4dc5-83c6-27b1021eecab"
   },
   "outputs": [
    {
     "name": "stdout",
     "output_type": "stream",
     "text": [
      "Fitting 5 folds for each of 18 candidates, totalling 90 fits\n"
     ]
    },
    {
     "name": "stderr",
     "output_type": "stream",
     "text": [
      "[Parallel(n_jobs=-1)]: Using backend LokyBackend with 2 concurrent workers.\n",
      "[Parallel(n_jobs=-1)]: Done  37 tasks      | elapsed: 66.1min\n",
      "[Parallel(n_jobs=-1)]: Done  90 out of  90 | elapsed: 182.8min finished\n"
     ]
    },
    {
     "name": "stdout",
     "output_type": "stream",
     "text": [
      "0.9439364096792346\n",
      "{'learning_rate': 0.6, 'max_depth': 5, 'subsample': 0.9}\n"
     ]
    }
   ],
   "source": [
    "from imblearn.over_sampling import SMOTE #- import the packages\n",
    "from sklearn.model_selection import StratifiedKFold\n",
    "import xgboost as xgb\n",
    "from xgboost import XGBClassifier\n",
    "from sklearn.model_selection import GridSearchCV\n",
    "from sklearn.metrics import roc_auc_score\n",
    "\n",
    "#perform hyperparameter tuning\n",
    "param_grid = {'learning_rate': [0.2, 0.6], \n",
    "          'subsample': [0.3, 0.6, 0.9],\n",
    "          'max_depth' : [2,3,5]\n",
    "          }          \n",
    "\n",
    "# specify model\n",
    "xgb_model_sm = XGBClassifier(n_estimators=200)\n",
    "\n",
    "# set up GridSearchCV()\n",
    "model_cv_sm = GridSearchCV(estimator = xgb_model_sm, \n",
    "                          param_grid = param_grid, \n",
    "                          scoring= 'roc_auc', \n",
    "                          cv = StratifiedKFold(n_splits=5, shuffle=True), \n",
    "                          verbose = 2,\n",
    "                          n_jobs=-1,\n",
    "                          return_train_score=True)  \n",
    "model_cv_sm.fit(X_train_smote, y_train_smote)\n",
    "#print the evaluation result by choosing a evaluation metric\n",
    "y_pred_sm = model_cv_sm.predict(X_test_smote)\n",
    "print(roc_auc_score(y_test_smote, y_pred_sm))\n",
    "#print the optimum value of hyperparameters\n",
    "print(model_cv_sm.best_params_)"
   ]
  },
  {
   "cell_type": "markdown",
   "metadata": {},
   "source": [
    "##### Optimal Model: XGBoost with SMOTE"
   ]
  },
  {
   "cell_type": "code",
   "execution_count": 42,
   "metadata": {},
   "outputs": [
    {
     "name": "stdout",
     "output_type": "stream",
     "text": [
      "0.9689734989693956\n"
     ]
    }
   ],
   "source": [
    "clf_sm = XGBClassifier(max_depth=5, n_estimators=200,learning_rate = 0.6, subsample = 0.9,objective = 'binary:logistic')  #initialise the model with optimum hyperparameters\n",
    "clf_sm.fit(X_train_smote, y_train_smote)\n",
    "y_pred_sm_f = clf_sm.predict_proba(X_test)\n",
    "print(roc_auc_score(y_test, y_pred_sm_f[:,1])) #print the evaluation score on the X_test by choosing the best evaluation metric"
   ]
  },
  {
   "cell_type": "markdown",
   "metadata": {},
   "source": [
    "##### Build models on other algorithms to see the better performing on SMOTE"
   ]
  },
  {
   "cell_type": "markdown",
   "metadata": {},
   "source": [
    "### Random Forest With SMOTE "
   ]
  },
  {
   "cell_type": "code",
   "execution_count": 14,
   "metadata": {},
   "outputs": [
    {
     "name": "stdout",
     "output_type": "stream",
     "text": [
      "Fitting 3 folds for each of 9 candidates, totalling 27 fits\n"
     ]
    },
    {
     "name": "stderr",
     "output_type": "stream",
     "text": [
      "[Parallel(n_jobs=-1)]: Using backend LokyBackend with 12 concurrent workers.\n",
      "[Parallel(n_jobs=-1)]: Done  18 out of  27 | elapsed: 42.2min remaining: 21.1min\n",
      "[Parallel(n_jobs=-1)]: Done  27 out of  27 | elapsed: 61.8min finished\n"
     ]
    },
    {
     "name": "stdout",
     "output_type": "stream",
     "text": [
      "{'n_estimators': 500, 'max_depth': 14}\n"
     ]
    }
   ],
   "source": [
    "\n",
    "from sklearn.model_selection import StratifiedKFold \n",
    "from sklearn.model_selection import RandomizedSearchCV\n",
    "from sklearn.ensemble import RandomForestClassifier\n",
    "from sklearn.model_selection import GridSearchCV\n",
    "from sklearn.metrics import roc_auc_score\n",
    "\n",
    "random_grid = {'max_depth': [10,12,14],\n",
    "          'n_estimators': [100, 300, 500]}\n",
    "\n",
    "#perform hyperparameter tuning\n",
    "\n",
    "# Use the random grid to search for best hyperparameters\n",
    "# First create the base model to tune\n",
    "rf = RandomForestClassifier()\n",
    "# Random search of parameters, using 3 fold cross validation, \n",
    "# search across 100 different combinations, and use all available cores\n",
    "rf_random = RandomizedSearchCV(estimator = rf, param_distributions = random_grid,scoring= 'roc_auc',\n",
    "                               n_iter = 100, cv = 3, verbose=2, random_state=42, n_jobs = -1,return_train_score=True)\n",
    "# Fit the random search model\n",
    "rf_random.fit(X_train_smote, y_train_smote)\n",
    "\n",
    "print(rf_random.best_params_)"
   ]
  },
  {
   "cell_type": "markdown",
   "metadata": {},
   "source": [
    "##### Optimal Model: Random Forest with SMOTE"
   ]
  },
  {
   "cell_type": "code",
   "execution_count": 19,
   "metadata": {},
   "outputs": [
    {
     "name": "stdout",
     "output_type": "stream",
     "text": [
      "0.9728257098179134\n"
     ]
    }
   ],
   "source": [
    "from sklearn.ensemble import RandomForestClassifier\n",
    "clf1 = RandomForestClassifier(n_jobs=-1,max_depth=14,n_estimators=500,class_weight='balanced')  \n",
    "clf1.fit(X_train_smote, y_train_smote)\n",
    "y_pred_un = clf1.predict_proba(X_test)\n",
    "print(roc_auc_score(y_test, y_pred_un[:,1])) "
   ]
  },
  {
   "cell_type": "markdown",
   "metadata": {
    "colab_type": "text",
    "id": "7ZBCLO6RpiSR"
   },
   "source": [
    "##  Model Building: ADASYN"
   ]
  },
  {
   "cell_type": "code",
   "execution_count": 25,
   "metadata": {
    "colab": {
     "base_uri": "https://localhost:8080/",
     "height": 1000
    },
    "colab_type": "code",
    "id": "a02WkrV4piSU",
    "outputId": "961f4404-58cc-4412-e1cb-5c47563d157b"
   },
   "outputs": [
    {
     "data": {
      "text/plain": [
       "<matplotlib.legend.Legend at 0x241ce8a98d0>"
      ]
     },
     "execution_count": 25,
     "metadata": {},
     "output_type": "execute_result"
    },
    {
     "data": {
      "image/png": "[encoded data removed]",
      "text/plain": [
       "<Figure size 1440x1440 with 3 Axes>"
      ]
     },
     "metadata": {
      "needs_background": "light"
     },
     "output_type": "display_data"
    }
   ],
   "source": [
    "import warnings\n",
    "warnings.filterwarnings(\"ignore\")\n",
    "\n",
    "from imblearn import over_sampling\n",
    "\n",
    "ada = over_sampling.ADASYN(random_state=42)\n",
    "X_train_adasyn, y_train_adasyn = ada.fit_resample(X_train, y_train)\n",
    "X_test_adasyn, y_test_adasyn = ada.fit_resample(X_test, y_test)\n",
    "# Artificial minority samples and corresponding minority labels from ADASYN are appended\n",
    "# below X_train and y_train respectively\n",
    "# So to exclusively get the artificial minority samples from ADASYN, we do\n",
    "X_train_adasyn_1 = X_train_adasyn[X_train.shape[0]:]\n",
    "\n",
    "X_train_1 = X_train.to_numpy()[np.where(y_train==1.0)]\n",
    "X_train_0 = X_train.to_numpy()[np.where(y_train==0.0)]\n",
    "\n",
    "\n",
    "\n",
    "import matplotlib.pyplot as plt\n",
    "%matplotlib inline\n",
    "plt.rcParams['figure.figsize'] = [20, 20]\n",
    "fig = plt.figure()\n",
    "\n",
    "plt.subplot(3, 1, 1)\n",
    "plt.scatter(X_train_1[:, 0], X_train_1[:, 1], label='Actual Class-1 Examples')\n",
    "plt.legend()\n",
    "\n",
    "plt.subplot(3, 1, 2)\n",
    "plt.scatter(X_train_1[:, 0], X_train_1[:, 1], label='Actual Class-1 Examples')\n",
    "plt.scatter(X_train_adasyn_1.iloc[:X_train_1.shape[0], 0], X_train_adasyn_1.iloc[:X_train_1.shape[0], 1],\n",
    "            label='Artificial ADASYN Class-1 Examples')\n",
    "plt.legend()\n",
    "\n",
    "plt.subplot(3, 1, 3)\n",
    "plt.scatter(X_train_1[:, 0], X_train_1[:, 1], label='Actual Class-1 Examples')\n",
    "plt.scatter(X_train_0[:X_train_1.shape[0], 0], X_train_0[:X_train_1.shape[0], 1], label='Actual Class-0 Examples')\n",
    "plt.legend()"
   ]
  },
  {
   "cell_type": "markdown",
   "metadata": {},
   "source": [
    "### Logistic Regression with ADASYN"
   ]
  },
  {
   "cell_type": "code",
   "execution_count": 26,
   "metadata": {},
   "outputs": [
    {
     "name": "stdout",
     "output_type": "stream",
     "text": [
      "C 0.01 ROC AUC:  0.9139079316141278\n",
      "C 0.1 ROC AUC:  0.9134155229149075\n",
      "C 20 ROC AUC:  0.9134213849232314\n",
      "C 30 ROC AUC:  0.9134213849232314\n",
      "C 100 ROC AUC:  0.9134213849232314\n"
     ]
    }
   ],
   "source": [
    "# Logistic Regression\n",
    "from sklearn import linear_model #import the package\n",
    "import warnings\n",
    "warnings.filterwarnings(\"ignore\")\n",
    "\n",
    "num_C = [0.01,0.1,20,30,100] \n",
    "from sklearn.metrics import roc_auc_score\n",
    "for i in num_C:\n",
    "\n",
    "    lr_1 = LogisticRegression(C=i,penalty='l2', solver='lbfgs', \n",
    "                          max_iter=1000,\n",
    "                          random_state=1000, tol=0.0001, verbose=0)\n",
    "    lr_1.fit(X_train_adasyn, y_train_adasyn)\n",
    "    y_pred_l1 = lr_1.predict(X_test)\n",
    "    print(\"C\",i,\"ROC AUC: \",roc_auc_score(y_test, y_pred_l1))"
   ]
  },
  {
   "cell_type": "markdown",
   "metadata": {},
   "source": [
    "### Random Forest With ADASYN"
   ]
  },
  {
   "cell_type": "code",
   "execution_count": 19,
   "metadata": {
    "colab": {},
    "colab_type": "code",
    "id": "CXQQcFOHI4wv"
   },
   "outputs": [
    {
     "name": "stdout",
     "output_type": "stream",
     "text": [
      "Fitting 3 folds for each of 12 candidates, totalling 36 fits\n"
     ]
    },
    {
     "name": "stderr",
     "output_type": "stream",
     "text": [
      "[Parallel(n_jobs=-1)]: Using backend LokyBackend with 12 concurrent workers.\n",
      "[Parallel(n_jobs=-1)]: Done  32 out of  36 | elapsed: 11.2min remaining:  1.4min\n",
      "[Parallel(n_jobs=-1)]: Done  36 out of  36 | elapsed: 12.8min finished\n"
     ]
    },
    {
     "name": "stdout",
     "output_type": "stream",
     "text": [
      "{'n_estimators': 100, 'max_depth': 14}\n"
     ]
    }
   ],
   "source": [
    "#perform cross validation & then balance classes on X_train_cv & y_train_cv using ADASYN\n",
    "\n",
    "#perform hyperparameter tuning\n",
    "\n",
    "from sklearn.model_selection import StratifiedKFold \n",
    "from sklearn.model_selection import RandomizedSearchCV\n",
    "from sklearn.ensemble import RandomForestClassifier\n",
    "from sklearn.model_selection import GridSearchCV\n",
    "from sklearn.metrics import roc_auc_score\n",
    "\n",
    "random_grid = {'max_depth': [2,6,10,14],\n",
    "          'n_estimators': [50,100,150]}\n",
    "\n",
    "#perform hyperparameter tuning\n",
    "\n",
    "# Use the random grid to search for best hyperparameters\n",
    "# First create the base model to tune\n",
    "rf = RandomForestClassifier()\n",
    "# Random search of parameters, using 3 fold cross validation, \n",
    "# search across 100 different combinations, and use all available cores\n",
    "rf_random = RandomizedSearchCV(estimator = rf, param_distributions = random_grid,scoring= 'roc_auc',\n",
    "                               n_iter = 100, cv = 3, verbose=2, random_state=42, n_jobs = -1,return_train_score=True)\n",
    "# +\n",
    "rf_random.fit(X_train_adasyn, y_train_adasyn)\n",
    "\n",
    "print(rf_random.best_params_)\n",
    "#print the evaluation result by choosing a evaluation metric\n",
    "\n",
    "#print the optimum value of hyperparameters\n"
   ]
  },
  {
   "cell_type": "markdown",
   "metadata": {},
   "source": [
    "##### Optimal Model: Random Forest with ADASYN"
   ]
  },
  {
   "cell_type": "code",
   "execution_count": 26,
   "metadata": {},
   "outputs": [
    {
     "name": "stdout",
     "output_type": "stream",
     "text": [
      "0.9763744429111684\n"
     ]
    }
   ],
   "source": [
    "clf2 = RandomForestClassifier(n_jobs=-1,max_depth=14,n_estimators=100)  \n",
    "clf2.fit(X_train_adasyn, y_train_adasyn)\n",
    "y_pred_un = clf2.predict_proba(X_test)\n",
    "print(roc_auc_score(y_test, y_pred_un[:,1])) "
   ]
  },
  {
   "cell_type": "markdown",
   "metadata": {},
   "source": [
    "### XGBoost with ADASYN "
   ]
  },
  {
   "cell_type": "code",
   "execution_count": 21,
   "metadata": {
    "colab": {
     "base_uri": "https://localhost:8080/",
     "height": 119
    },
    "colab_type": "code",
    "id": "BvEAuNPTpiSW",
    "outputId": "53196968-c7f3-460f-8a83-dec6dec85ead"
   },
   "outputs": [
    {
     "name": "stdout",
     "output_type": "stream",
     "text": [
      "Fitting 5 folds for each of 18 candidates, totalling 90 fits\n"
     ]
    },
    {
     "name": "stderr",
     "output_type": "stream",
     "text": [
      "[Parallel(n_jobs=-1)]: Using backend LokyBackend with 2 concurrent workers.\n",
      "[Parallel(n_jobs=-1)]: Done  37 tasks      | elapsed: 72.3min\n",
      "[Parallel(n_jobs=-1)]: Done  90 out of  90 | elapsed: 195.0min finished\n"
     ]
    },
    {
     "name": "stdout",
     "output_type": "stream",
     "text": [
      "0.8390932178717856\n",
      "{'learning_rate': 0.6, 'max_depth': 5, 'subsample': 0.6}\n"
     ]
    }
   ],
   "source": [
    "#perform cross validation & then balance classes on X_train_cv & y_train_cv using ADASYN\n",
    "from imblearn.over_sampling import ADASYN #- import the packages\n",
    "from sklearn.model_selection import StratifiedKFold\n",
    "import xgboost as xgb\n",
    "from xgboost import XGBClassifier\n",
    "from sklearn.model_selection import GridSearchCV\n",
    "from sklearn.metrics import roc_auc_score\n",
    "\n",
    "#perform hyperparameter tuning\n",
    "param_grid = {'learning_rate': [0.2, 0.6], \n",
    "          'subsample': [0.3, 0.6, 0.9],\n",
    "          'max_depth' : [2,3,5]\n",
    "          }          \n",
    "\n",
    "# specify model\n",
    "xgb_model_ad = XGBClassifier(n_estimators=200)\n",
    "\n",
    "# set up GridSearchCV()\n",
    "model_cv_ad = GridSearchCV(estimator = xgb_model_ad, \n",
    "                          param_grid = param_grid, \n",
    "                          scoring= 'roc_auc', \n",
    "                          cv = StratifiedKFold(n_splits=5, shuffle=True), \n",
    "                          verbose = 2,\n",
    "                          n_jobs=-1,\n",
    "                          return_train_score=True)  \n",
    "model_cv_ad.fit(X_train_adasyn, y_train_adasyn)\n",
    "#print the evaluation result by choosing a evaluation metric\n",
    "y_pred_ad = model_cv_ad.predict(X_test_adasyn)\n",
    "print(roc_auc_score(y_test_adasyn, y_pred_ad))\n",
    "#print the optimum value of hyperparameters\n",
    "print(model_cv_ad.best_params_)\n"
   ]
  },
  {
   "cell_type": "markdown",
   "metadata": {},
   "source": [
    "##### Optimal Model: XGBoost with ADASYN"
   ]
  },
  {
   "cell_type": "code",
   "execution_count": 38,
   "metadata": {
    "colab": {
     "base_uri": "https://localhost:8080/",
     "height": 34
    },
    "colab_type": "code",
    "id": "-sRLa_3fLjIL",
    "outputId": "4f4c8d5c-b987-4af7-b761-c40dea532f82"
   },
   "outputs": [
    {
     "name": "stdout",
     "output_type": "stream",
     "text": [
      "0.974127550963825\n"
     ]
    }
   ],
   "source": [
    "clf_ad = XGBClassifier(max_depth=5, n_estimators=200,learning_rate = 0.6, subsample = 0.6,objective = 'binary:logistic')  #initialise the model with optimum hyperparameters\n",
    "clf_ad.fit(X_train_adasyn, y_train_adasyn)\n",
    "y_pred_ad_f = clf_ad.predict_proba(X_test)\n",
    "print(roc_auc_score(y_test, y_pred_ad_f[:,1])) #print the evaluation score on the X_test by choosing the best evaluation metric"
   ]
  },
  {
   "cell_type": "markdown",
   "metadata": {
    "colab_type": "text",
    "id": "-tgHBPaupiSZ"
   },
   "source": [
    "### Select the oversampling method which shows the best result on a model\n",
    "- Apply the best hyperparameter on the model\n",
    "- Predict on the test dataset"
   ]
  },
  {
   "cell_type": "code",
   "execution_count": 88,
   "metadata": {
    "colab": {},
    "colab_type": "code",
    "id": "8CM_aW7vpiSa"
   },
   "outputs": [
    {
     "name": "stdout",
     "output_type": "stream",
     "text": [
      "0.974127550963825\n"
     ]
    }
   ],
   "source": [
    "# perform the best oversampling method on X_train & y_train\n",
    "\n",
    "clf_final = XGBClassifier(max_depth=5, n_estimators=200,learning_rate = 0.6, subsample = 0.6,objective = 'binary:logistic')   #initialise the model with optimum hyperparameters\n",
    "clf_final.fit(X_train_adasyn, y_train_adasyn) # fit on the balanced dataset\n",
    "y_pred_final = clf_final.predict_proba(X_test)\n",
    "print(roc_auc_score(y_test, y_pred_final[:,1])) #print the evaluation score on the X_test by choosing the best evaluation metric"
   ]
  },
  {
   "cell_type": "markdown",
   "metadata": {
    "colab_type": "text",
    "id": "ABmOsKTNpiSd"
   },
   "source": [
    "### Print the important features of the best model to understand the dataset"
   ]
  },
  {
   "cell_type": "code",
   "execution_count": 89,
   "metadata": {
    "colab": {},
    "colab_type": "code",
    "id": "aquvQB6npiSe"
   },
   "outputs": [
    {
     "name": "stdout",
     "output_type": "stream",
     "text": [
      "Top var = 14\n",
      "2nd Top var = 4\n",
      "3rd Top var = 8\n"
     ]
    },
    {
     "data": {
      "text/plain": [
       "<matplotlib.legend.Legend at 0x2418beb6160>"
      ]
     },
     "execution_count": 89,
     "metadata": {},
     "output_type": "execute_result"
    },
    {
     "data": {
      "image/png": "[encoded data removed]",
      "text/plain": [
       "<Figure size 1440x1440 with 1 Axes>"
      ]
     },
     "metadata": {
      "needs_background": "light"
     },
     "output_type": "display_data"
    }
   ],
   "source": [
    "var_imp = []\n",
    "for i in clf_final.feature_importances_:\n",
    "    var_imp.append(i)\n",
    "print('Top var =', var_imp.index(np.sort(clf_final.feature_importances_)[-1])+1)\n",
    "print('2nd Top var =', var_imp.index(np.sort(clf_final.feature_importances_)[-2])+1)\n",
    "print('3rd Top var =', var_imp.index(np.sort(clf_final.feature_importances_)[-3])+1)\n",
    "\n",
    "# Variable on Index-13 and Index-9 seems to be the top 2 variables\n",
    "top_var_index = var_imp.index(np.sort(clf_final.feature_importances_)[-1])\n",
    "second_top_var_index = var_imp.index(np.sort(clf_final.feature_importances_)[-2])\n",
    "\n",
    "X_train_1 = X_train.to_numpy()[np.where(y_train==1.0)]\n",
    "X_train_0 = X_train.to_numpy()[np.where(y_train==0.0)]\n",
    "\n",
    "np.random.shuffle(X_train_0)\n",
    "\n",
    "import matplotlib.pyplot as plt\n",
    "%matplotlib inline\n",
    "plt.rcParams['figure.figsize'] = [20, 20]\n",
    "\n",
    "plt.scatter(X_train_1[:, top_var_index], X_train_1[:, second_top_var_index], label='Actual Class-1 Examples')\n",
    "plt.scatter(X_train_0[:X_train_1.shape[0], top_var_index], X_train_0[:X_train_1.shape[0], second_top_var_index],\n",
    "            label='Actual Class-0 Examples')\n",
    "plt.legend()"
   ]
  },
  {
   "cell_type": "code",
   "execution_count": 90,
   "metadata": {},
   "outputs": [],
   "source": [
    "#Let's first form a function to get all evaluation metrics at one time\n",
    "\n",
    "from sklearn.metrics import confusion_matrix,classification_report,precision_score, recall_score, accuracy_score\n",
    "from sklearn.metrics import roc_curve, roc_auc_score,precision_recall_curve, f1_score\n",
    "\n",
    "def metrics_dataframe(actual, predicted):\n",
    "    confusion = confusion_matrix(actual, predicted)\n",
    "    \n",
    "    TP = confusion[1,1] # true positive \n",
    "    TN = confusion[0,0] # true negatives\n",
    "    FP = confusion[0,1] # false positives\n",
    "    FN = confusion[1,0] # false negatives\n",
    "\n",
    "    specificity = TN/float(TN+FP)\n",
    "    accuracy = accuracy_score(actual, predicted)\n",
    "    F1_score = f1_score(actual, predicted)\n",
    "    precision = precision_score(actual, predicted)\n",
    "    recall = recall_score(actual, predicted)\n",
    "    false_positive_rate = FP/float(TN+FP)\n",
    "    positive_predictive_value = TP/float(TP+FP)\n",
    "    negative_predictive_value = TN/float(TN+ FN)\n",
    "    \n",
    "    return_data = {'Metric': ['Specificity', 'Accuracy', 'F1 Score','Precision', 'Sensitivity/Recall', 'False Positive Rate',\n",
    "                             'Positive Predictive Value', 'Negative Predictive Value'],\n",
    "                   'Score': [specificity, accuracy,F1_score, precision, recall, false_positive_rate, positive_predictive_value,\n",
    "                            negative_predictive_value]}\n",
    "    return pd.DataFrame.from_dict(return_data)"
   ]
  },
  {
   "cell_type": "code",
   "execution_count": 91,
   "metadata": {},
   "outputs": [
    {
     "data": {
      "text/html": [
       "<div>\n",
       "<style scoped>\n",
       "    .dataframe tbody tr th:only-of-type {\n",
       "        vertical-align: middle;\n",
       "    }\n",
       "\n",
       "    .dataframe tbody tr th {\n",
       "        vertical-align: top;\n",
       "    }\n",
       "\n",
       "    .dataframe thead th {\n",
       "        text-align: right;\n",
       "    }\n",
       "</style>\n",
       "<table border=\"1\" class=\"dataframe\">\n",
       "  <thead>\n",
       "    <tr style=\"text-align: right;\">\n",
       "      <th></th>\n",
       "      <th>converted</th>\n",
       "      <th>converted_probability</th>\n",
       "    </tr>\n",
       "  </thead>\n",
       "  <tbody>\n",
       "    <tr>\n",
       "      <th>186882</th>\n",
       "      <td>0</td>\n",
       "      <td>7.323756e-11</td>\n",
       "    </tr>\n",
       "    <tr>\n",
       "      <th>165754</th>\n",
       "      <td>0</td>\n",
       "      <td>5.304494e-11</td>\n",
       "    </tr>\n",
       "    <tr>\n",
       "      <th>235285</th>\n",
       "      <td>0</td>\n",
       "      <td>9.902174e-09</td>\n",
       "    </tr>\n",
       "    <tr>\n",
       "      <th>101271</th>\n",
       "      <td>0</td>\n",
       "      <td>2.643939e-07</td>\n",
       "    </tr>\n",
       "    <tr>\n",
       "      <th>5832</th>\n",
       "      <td>0</td>\n",
       "      <td>4.788030e-06</td>\n",
       "    </tr>\n",
       "  </tbody>\n",
       "</table>\n",
       "</div>"
      ],
      "text/plain": [
       "        converted  converted_probability\n",
       "186882          0           7.323756e-11\n",
       "165754          0           5.304494e-11\n",
       "235285          0           9.902174e-09\n",
       "101271          0           2.643939e-07\n",
       "5832            0           4.788030e-06"
      ]
     },
     "execution_count": 91,
     "metadata": {},
     "output_type": "execute_result"
    }
   ],
   "source": [
    "#Predicting the probabilities\n",
    "y_pred_final = pd.DataFrame({'converted':y_test,'converted_probability':y_pred_final[:,1]})\n",
    "y_pred_final.head()"
   ]
  },
  {
   "cell_type": "code",
   "execution_count": 92,
   "metadata": {
    "colab": {},
    "colab_type": "code",
    "id": "FvR6W7zopiSh"
   },
   "outputs": [
    {
     "data": {
      "image/png": "[encoded data removed]",
      "text/plain": [
       "<Figure size 864x720 with 1 Axes>"
      ]
     },
     "metadata": {
      "needs_background": "light"
     },
     "output_type": "display_data"
    }
   ],
   "source": [
    "#### Print the FPR,TPR & select the best threshold from the roc curve\n",
    "\n",
    "#Defining the function for plotting the ROC curve\n",
    "from sklearn.metrics import roc_curve\n",
    "def draw_roc( actual, probs ):\n",
    "    fpr, tpr, thresholds = roc_curve( actual, probs,\n",
    "                                              drop_intermediate = False )\n",
    "    auc_score = roc_auc_score( actual, probs )\n",
    "    plt.plot( fpr, tpr, label='ROC curve (area = %0.2f)' % auc_score )\n",
    "    plt.plot([0, 1], [0, 1], 'k--')\n",
    "    plt.xlim([0.0, 1.0])\n",
    "    plt.ylim([0.0, 1.05])\n",
    "    plt.xlabel('False Positive Rate or [1 - True Negative Rate]')\n",
    "    plt.ylabel('True Positive Rate')\n",
    "    plt.title('Receiver operating characteristic')\n",
    "    plt.legend(loc=\"lower right\")\n",
    "    plt.show()\n",
    "\n",
    "    return None\n",
    "\n",
    "fpr, tpr, thresholds = roc_curve(y_pred_final.converted,\n",
    "                                         y_pred_final.converted_probability, drop_intermediate=False )\n",
    "\n",
    "#PLotting the ROC curve\n",
    "plt.figure(figsize=(12, 10))\n",
    "draw_roc(y_pred_final.converted, y_pred_final.converted_probability)"
   ]
  },
  {
   "cell_type": "code",
   "execution_count": 93,
   "metadata": {},
   "outputs": [
    {
     "name": "stdout",
     "output_type": "stream",
     "text": [
      "0.0005550518\n"
     ]
    }
   ],
   "source": [
    "threshold = thresholds[np.argmax(tpr-fpr)]\n",
    "print(threshold)"
   ]
  },
  {
   "cell_type": "code",
   "execution_count": 94,
   "metadata": {},
   "outputs": [],
   "source": [
    "predicted_final_train = y_pred_final.converted_probability.map( lambda x: 1 if x > threshold else 0)"
   ]
  },
  {
   "cell_type": "code",
   "execution_count": 95,
   "metadata": {},
   "outputs": [
    {
     "name": "stdout",
     "output_type": "stream",
     "text": [
      "[[84466   829]\n",
      " [   21   127]]\n"
     ]
    },
    {
     "data": {
      "text/html": [
       "<div>\n",
       "<style scoped>\n",
       "    .dataframe tbody tr th:only-of-type {\n",
       "        vertical-align: middle;\n",
       "    }\n",
       "\n",
       "    .dataframe tbody tr th {\n",
       "        vertical-align: top;\n",
       "    }\n",
       "\n",
       "    .dataframe thead th {\n",
       "        text-align: right;\n",
       "    }\n",
       "</style>\n",
       "<table border=\"1\" class=\"dataframe\">\n",
       "  <thead>\n",
       "    <tr style=\"text-align: right;\">\n",
       "      <th></th>\n",
       "      <th>Metric</th>\n",
       "      <th>Score</th>\n",
       "    </tr>\n",
       "  </thead>\n",
       "  <tbody>\n",
       "    <tr>\n",
       "      <th>0</th>\n",
       "      <td>Specificity</td>\n",
       "      <td>0.990281</td>\n",
       "    </tr>\n",
       "    <tr>\n",
       "      <th>1</th>\n",
       "      <td>Accuracy</td>\n",
       "      <td>0.990052</td>\n",
       "    </tr>\n",
       "    <tr>\n",
       "      <th>2</th>\n",
       "      <td>F1 Score</td>\n",
       "      <td>0.230072</td>\n",
       "    </tr>\n",
       "    <tr>\n",
       "      <th>3</th>\n",
       "      <td>Precision</td>\n",
       "      <td>0.132845</td>\n",
       "    </tr>\n",
       "    <tr>\n",
       "      <th>4</th>\n",
       "      <td>Sensitivity/Recall</td>\n",
       "      <td>0.858108</td>\n",
       "    </tr>\n",
       "    <tr>\n",
       "      <th>5</th>\n",
       "      <td>False Positive Rate</td>\n",
       "      <td>0.009719</td>\n",
       "    </tr>\n",
       "    <tr>\n",
       "      <th>6</th>\n",
       "      <td>Positive Predictive Value</td>\n",
       "      <td>0.132845</td>\n",
       "    </tr>\n",
       "    <tr>\n",
       "      <th>7</th>\n",
       "      <td>Negative Predictive Value</td>\n",
       "      <td>0.999751</td>\n",
       "    </tr>\n",
       "  </tbody>\n",
       "</table>\n",
       "</div>"
      ],
      "text/plain": [
       "                      Metric     Score\n",
       "0                Specificity  0.990281\n",
       "1                   Accuracy  0.990052\n",
       "2                   F1 Score  0.230072\n",
       "3                  Precision  0.132845\n",
       "4         Sensitivity/Recall  0.858108\n",
       "5        False Positive Rate  0.009719\n",
       "6  Positive Predictive Value  0.132845\n",
       "7  Negative Predictive Value  0.999751"
      ]
     },
     "execution_count": 95,
     "metadata": {},
     "output_type": "execute_result"
    }
   ],
   "source": [
    "print(confusion_matrix(y_pred_final.converted, predicted_final_train))\n",
    "metrics_dataframe(y_pred_final.converted, predicted_final_train)"
   ]
  },
  {
   "cell_type": "code",
   "execution_count": 61,
   "metadata": {},
   "outputs": [
    {
     "data": {
      "text/plain": [
       "<matplotlib.lines.Line2D at 0x241808de828>"
      ]
     },
     "execution_count": 61,
     "metadata": {},
     "output_type": "execute_result"
    },
    {
     "data": {
      "image/png": "[encoded data removed]",
      "text/plain": [
       "<Figure size 1152x432 with 1 Axes>"
      ]
     },
     "metadata": {
      "needs_background": "light"
     },
     "output_type": "display_data"
    }
   ],
   "source": [
    "# Probability Distribution of Precision-Recall Trade-off\n",
    "from sklearn.metrics import precision_recall_curve\n",
    "p, r, thresholds = precision_recall_curve(y_pred_final.converted, y_pred_final.converted_probability)\n",
    "\n",
    "cutoff_df = pd.DataFrame({'Precision': pd.Series(p[:-1], index=thresholds),\n",
    "              'Recall':pd.Series(r[:-1], index=thresholds)})\n",
    "cutoff_df.head()\n",
    "#Plotting the trade-off\n",
    "plt.figure(figsize=(16, 6))\n",
    "sns.lineplot(data=cutoff_df)\n",
    "plt.title('Precision vs Recall for various probabilities', fontsize=18)\n",
    "plt.axvline(0.55, color='r', linestyle='-.')"
   ]
  },
  {
   "cell_type": "code",
   "execution_count": 62,
   "metadata": {},
   "outputs": [
    {
     "name": "stdout",
     "output_type": "stream",
     "text": [
      "[[85266    29]\n",
      " [   29   119]]\n"
     ]
    },
    {
     "data": {
      "text/html": [
       "<div>\n",
       "<style scoped>\n",
       "    .dataframe tbody tr th:only-of-type {\n",
       "        vertical-align: middle;\n",
       "    }\n",
       "\n",
       "    .dataframe tbody tr th {\n",
       "        vertical-align: top;\n",
       "    }\n",
       "\n",
       "    .dataframe thead th {\n",
       "        text-align: right;\n",
       "    }\n",
       "</style>\n",
       "<table border=\"1\" class=\"dataframe\">\n",
       "  <thead>\n",
       "    <tr style=\"text-align: right;\">\n",
       "      <th></th>\n",
       "      <th>Metric</th>\n",
       "      <th>Score</th>\n",
       "    </tr>\n",
       "  </thead>\n",
       "  <tbody>\n",
       "    <tr>\n",
       "      <th>0</th>\n",
       "      <td>Specificity</td>\n",
       "      <td>0.999660</td>\n",
       "    </tr>\n",
       "    <tr>\n",
       "      <th>1</th>\n",
       "      <td>Accuracy</td>\n",
       "      <td>0.999321</td>\n",
       "    </tr>\n",
       "    <tr>\n",
       "      <th>2</th>\n",
       "      <td>F1 Score</td>\n",
       "      <td>0.804054</td>\n",
       "    </tr>\n",
       "    <tr>\n",
       "      <th>3</th>\n",
       "      <td>Precision</td>\n",
       "      <td>0.804054</td>\n",
       "    </tr>\n",
       "    <tr>\n",
       "      <th>4</th>\n",
       "      <td>Sensitivity/Recall</td>\n",
       "      <td>0.804054</td>\n",
       "    </tr>\n",
       "    <tr>\n",
       "      <th>5</th>\n",
       "      <td>False Positive Rate</td>\n",
       "      <td>0.000340</td>\n",
       "    </tr>\n",
       "    <tr>\n",
       "      <th>6</th>\n",
       "      <td>Positive Predictive Value</td>\n",
       "      <td>0.804054</td>\n",
       "    </tr>\n",
       "    <tr>\n",
       "      <th>7</th>\n",
       "      <td>Negative Predictive Value</td>\n",
       "      <td>0.999660</td>\n",
       "    </tr>\n",
       "  </tbody>\n",
       "</table>\n",
       "</div>"
      ],
      "text/plain": [
       "                      Metric     Score\n",
       "0                Specificity  0.999660\n",
       "1                   Accuracy  0.999321\n",
       "2                   F1 Score  0.804054\n",
       "3                  Precision  0.804054\n",
       "4         Sensitivity/Recall  0.804054\n",
       "5        False Positive Rate  0.000340\n",
       "6  Positive Predictive Value  0.804054\n",
       "7  Negative Predictive Value  0.999660"
      ]
     },
     "execution_count": 62,
     "metadata": {},
     "output_type": "execute_result"
    }
   ],
   "source": [
    "#Evaluating the metrics on optimum threshold\n",
    "threshold=0.55\n",
    "predicted_final_train = y_pred_final.converted_probability.map( lambda x: 1 if x > threshold else 0)\n",
    "print(confusion_matrix(y_pred_final.converted, predicted_final_train))\n",
    "metrics_dataframe(y_pred_final.converted, predicted_final_train)"
   ]
  },
  {
   "cell_type": "markdown",
   "metadata": {},
   "source": [
    "### Conclusion-1:\n",
    " * Out of `148` fraud transaction in test, Our Model is able correctly identify `127` samples and missed `21` samples while considering 0.00055 as our threshold.\n",
    " * We can increase the the fraud detection rate by decreasing the threshold but that will depend on the client as it will impact false negatives score as well.\n",
    " * For this scenario we are keeping a low threshold so that we can correctly identify fraud transactions. On the negative side we are identifying some of the valid transactions as fraud which will impact customers mindset.\n",
    " * After finding the optimum threshold from the Precision-Recall curve, we observe that there is an increase in Precision and decrease in Recall though we are identifying lesser frauds but False positive count has decreased significantly.\n",
    " * PFB  some Stats we got from all the models we have trained "
   ]
  },
  {
   "cell_type": "raw",
   "metadata": {},
   "source": [
    "sl\tModel\t\t\t\t\tBalancing \t\tBest ROC-Auc Score \tComment \n",
    "-- ----------               -------------   ------------------  ------------\n",
    "1\tLogistic Regression\t\tNo\t\t\t\t96.54\t\t\t\tBaseline Model\n",
    "2\tRandom Forest \t\t\tNo\t\t\t\t97.56\n",
    "3\tXGBoost\t\t\t\t\tNo\t\t\t\t96.96\t\n",
    "\n",
    "4\tLogistic Regression\t\tOversampling\t92.78\t\t\n",
    "5\tRandom Forest \t\t\tOversampling\t97.4\t\n",
    "6\tXGBoost\t\t\t\t\tOversampling\t97.3\n",
    "\n",
    "7\tLogistic Regression\t\tSMOTE\t\t\t96.81\t\n",
    "8\tRandom Forest \t\t\tSMOTE\t\t\t97.28\t\n",
    "9\tXGBoost\t\t\t\t\tSMOTE\t\t\t96.89\t\n",
    "\n",
    "10\tLogistic Regression\t\tADASYN\t\t\t91.39\t\n",
    "11\tRandom Forest \t\t\tADASYN\t\t\t97.63\n",
    "12\tXGBoost\t\t\t\t\tADASYN\t\t\t97.41\t            Model considered "
   ]
  },
  {
   "cell_type": "markdown",
   "metadata": {},
   "source": [
    "__We will now try our second approach of identifying frauds by building the model using Neural Networks with SMOTE and ADASYN balanced data__"
   ]
  },
  {
   "cell_type": "markdown",
   "metadata": {},
   "source": [
    "### Nueral Network with SMOTE"
   ]
  },
  {
   "cell_type": "code",
   "execution_count": 107,
   "metadata": {},
   "outputs": [],
   "source": [
    "import keras\n",
    "from keras import backend as K\n",
    "from keras.models import Sequential\n",
    "from keras.layers import Activation\n",
    "from keras.layers.core import Dense\n",
    "from keras.optimizers import Adam\n",
    "from keras.metrics import categorical_crossentropy\n",
    "\n",
    "n_inputs = X_train.shape[1]\n",
    "\n",
    "NN_model = Sequential([\n",
    "    Dense(n_inputs, input_shape=(n_inputs, ), activation='relu'),\n",
    "    Dense(32, activation='relu'),\n",
    "    Dense(2, activation='softmax')\n",
    "])"
   ]
  },
  {
   "cell_type": "code",
   "execution_count": 108,
   "metadata": {},
   "outputs": [
    {
     "name": "stdout",
     "output_type": "stream",
     "text": [
      "Model: \"sequential_2\"\n",
      "_________________________________________________________________\n",
      "Layer (type)                 Output Shape              Param #   \n",
      "=================================================================\n",
      "dense_6 (Dense)              (None, 29)                870       \n",
      "_________________________________________________________________\n",
      "dense_7 (Dense)              (None, 32)                960       \n",
      "_________________________________________________________________\n",
      "dense_8 (Dense)              (None, 2)                 66        \n",
      "=================================================================\n",
      "Total params: 1,896\n",
      "Trainable params: 1,896\n",
      "Non-trainable params: 0\n",
      "_________________________________________________________________\n"
     ]
    }
   ],
   "source": [
    "NN_model.summary()"
   ]
  },
  {
   "cell_type": "code",
   "execution_count": 115,
   "metadata": {},
   "outputs": [],
   "source": [
    "NN_model.compile(Adam(lr=0.001), loss='sparse_categorical_crossentropy', metrics=['accuracy'])"
   ]
  },
  {
   "cell_type": "code",
   "execution_count": 116,
   "metadata": {},
   "outputs": [
    {
     "name": "stdout",
     "output_type": "stream",
     "text": [
      "Epoch 1/20\n",
      "11146/11146 - 7s - loss: 0.0014 - accuracy: 0.9997 - val_loss: 2.5113e-04 - val_accuracy: 1.0000\n",
      "Epoch 2/20\n",
      "11146/11146 - 7s - loss: 0.0011 - accuracy: 0.9997 - val_loss: 0.0018 - val_accuracy: 0.9995\n",
      "Epoch 3/20\n",
      "11146/11146 - 7s - loss: 0.0012 - accuracy: 0.9997 - val_loss: 4.5651e-04 - val_accuracy: 1.0000\n",
      "Epoch 4/20\n",
      "11146/11146 - 7s - loss: 0.0012 - accuracy: 0.9998 - val_loss: 1.5383e-04 - val_accuracy: 1.0000\n",
      "Epoch 5/20\n",
      "11146/11146 - 7s - loss: 0.0012 - accuracy: 0.9997 - val_loss: 1.0490e-04 - val_accuracy: 1.0000\n",
      "Epoch 6/20\n",
      "11146/11146 - 7s - loss: 0.0013 - accuracy: 0.9997 - val_loss: 0.0022 - val_accuracy: 0.9991\n",
      "Epoch 7/20\n",
      "11146/11146 - 7s - loss: 0.0012 - accuracy: 0.9998 - val_loss: 1.4650e-04 - val_accuracy: 1.0000\n",
      "Epoch 8/20\n",
      "11146/11146 - 7s - loss: 0.0011 - accuracy: 0.9998 - val_loss: 1.5603e-04 - val_accuracy: 1.0000\n",
      "Epoch 9/20\n",
      "11146/11146 - 7s - loss: 8.9767e-04 - accuracy: 0.9998 - val_loss: 2.1645e-04 - val_accuracy: 1.0000\n",
      "Epoch 10/20\n",
      "11146/11146 - 7s - loss: 8.4638e-04 - accuracy: 0.9998 - val_loss: 4.4317e-04 - val_accuracy: 0.9999\n",
      "Epoch 11/20\n",
      "11146/11146 - 7s - loss: 9.9498e-04 - accuracy: 0.9998 - val_loss: 5.0311e-04 - val_accuracy: 0.9998\n",
      "Epoch 12/20\n",
      "11146/11146 - 7s - loss: 0.0012 - accuracy: 0.9997 - val_loss: 1.3684e-04 - val_accuracy: 1.0000\n",
      "Epoch 13/20\n",
      "11146/11146 - 8s - loss: 0.0011 - accuracy: 0.9998 - val_loss: 2.7591e-04 - val_accuracy: 1.0000\n",
      "Epoch 14/20\n",
      "11146/11146 - 8s - loss: 7.1747e-04 - accuracy: 0.9998 - val_loss: 0.0074 - val_accuracy: 0.9979\n",
      "Epoch 15/20\n",
      "11146/11146 - 7s - loss: 0.0011 - accuracy: 0.9998 - val_loss: 1.2469e-04 - val_accuracy: 1.0000\n",
      "Epoch 16/20\n",
      "11146/11146 - 7s - loss: 9.0885e-04 - accuracy: 0.9998 - val_loss: 5.5938e-05 - val_accuracy: 1.0000\n",
      "Epoch 17/20\n",
      "11146/11146 - 7s - loss: 0.0010 - accuracy: 0.9998 - val_loss: 8.8212e-05 - val_accuracy: 1.0000\n",
      "Epoch 18/20\n",
      "11146/11146 - 7s - loss: 9.2856e-04 - accuracy: 0.9998 - val_loss: 2.5407e-04 - val_accuracy: 1.0000\n",
      "Epoch 19/20\n",
      "11146/11146 - 7s - loss: 8.9917e-04 - accuracy: 0.9998 - val_loss: 0.0401 - val_accuracy: 0.9935\n",
      "Epoch 20/20\n",
      "11146/11146 - 7s - loss: 9.4050e-04 - accuracy: 0.9998 - val_loss: 4.3212e-04 - val_accuracy: 1.0000\n"
     ]
    },
    {
     "data": {
      "text/plain": [
       "<tensorflow.python.keras.callbacks.History at 0x1c1ef22ba30>"
      ]
     },
     "execution_count": 116,
     "metadata": {},
     "output_type": "execute_result"
    }
   ],
   "source": [
    "NN_model.fit(X_train_smote, y_train_smote, validation_split=0.3, batch_size=25, epochs=20, shuffle=True, verbose=2)"
   ]
  },
  {
   "cell_type": "code",
   "execution_count": 117,
   "metadata": {},
   "outputs": [],
   "source": [
    "y_pred_NN = NN_model.predict(X_test, batch_size=200, verbose=0)"
   ]
  },
  {
   "cell_type": "code",
   "execution_count": 124,
   "metadata": {},
   "outputs": [
    {
     "name": "stdout",
     "output_type": "stream",
     "text": [
      "WARNING:tensorflow:From <ipython-input-124-9154c69eee0f>:1: Sequential.predict_classes (from tensorflow.python.keras.engine.sequential) is deprecated and will be removed after 2021-01-01.\n",
      "Instructions for updating:\n",
      "Please use instead:* `np.argmax(model.predict(x), axis=-1)`,   if your model does multi-class classification   (e.g. if it uses a `softmax` last-layer activation).* `(model.predict(x) > 0.5).astype(\"int32\")`,   if your model does binary classification   (e.g. if it uses a `sigmoid` last-layer activation).\n"
     ]
    }
   ],
   "source": [
    "y_pred_NNC = NN_model.predict_classes(X_test, batch_size=200, verbose=0)"
   ]
  },
  {
   "cell_type": "code",
   "execution_count": 126,
   "metadata": {},
   "outputs": [
    {
     "data": {
      "text/plain": [
       "array([[85262,    33],\n",
       "       [   35,   113]], dtype=int64)"
      ]
     },
     "execution_count": 126,
     "metadata": {},
     "output_type": "execute_result"
    }
   ],
   "source": [
    "confusion_matrix(y_test,y_pred_NNC)\n"
   ]
  },
  {
   "cell_type": "code",
   "execution_count": 127,
   "metadata": {},
   "outputs": [
    {
     "name": "stdout",
     "output_type": "stream",
     "text": [
      "TP 113 FP 33\n",
      "0.7687074829931972 0.773972602739726 0.7635135135135135\n"
     ]
    },
    {
     "data": {
      "text/html": [
       "<div>\n",
       "<style scoped>\n",
       "    .dataframe tbody tr th:only-of-type {\n",
       "        vertical-align: middle;\n",
       "    }\n",
       "\n",
       "    .dataframe tbody tr th {\n",
       "        vertical-align: top;\n",
       "    }\n",
       "\n",
       "    .dataframe thead th {\n",
       "        text-align: right;\n",
       "    }\n",
       "</style>\n",
       "<table border=\"1\" class=\"dataframe\">\n",
       "  <thead>\n",
       "    <tr style=\"text-align: right;\">\n",
       "      <th></th>\n",
       "      <th>Metric</th>\n",
       "      <th>Score</th>\n",
       "    </tr>\n",
       "  </thead>\n",
       "  <tbody>\n",
       "    <tr>\n",
       "      <th>0</th>\n",
       "      <td>Specificity</td>\n",
       "      <td>0.999613</td>\n",
       "    </tr>\n",
       "    <tr>\n",
       "      <th>1</th>\n",
       "      <td>Accuracy</td>\n",
       "      <td>0.999204</td>\n",
       "    </tr>\n",
       "    <tr>\n",
       "      <th>2</th>\n",
       "      <td>F1 Score</td>\n",
       "      <td>0.768707</td>\n",
       "    </tr>\n",
       "    <tr>\n",
       "      <th>3</th>\n",
       "      <td>Precision</td>\n",
       "      <td>0.773973</td>\n",
       "    </tr>\n",
       "    <tr>\n",
       "      <th>4</th>\n",
       "      <td>Sensitivity/Recall</td>\n",
       "      <td>0.763514</td>\n",
       "    </tr>\n",
       "    <tr>\n",
       "      <th>5</th>\n",
       "      <td>False Positive Rate</td>\n",
       "      <td>0.000387</td>\n",
       "    </tr>\n",
       "    <tr>\n",
       "      <th>6</th>\n",
       "      <td>Positive Predictive Value</td>\n",
       "      <td>0.773973</td>\n",
       "    </tr>\n",
       "    <tr>\n",
       "      <th>7</th>\n",
       "      <td>Negative Predictive Value</td>\n",
       "      <td>0.999590</td>\n",
       "    </tr>\n",
       "  </tbody>\n",
       "</table>\n",
       "</div>"
      ],
      "text/plain": [
       "                      Metric     Score\n",
       "0                Specificity  0.999613\n",
       "1                   Accuracy  0.999204\n",
       "2                   F1 Score  0.768707\n",
       "3                  Precision  0.773973\n",
       "4         Sensitivity/Recall  0.763514\n",
       "5        False Positive Rate  0.000387\n",
       "6  Positive Predictive Value  0.773973\n",
       "7  Negative Predictive Value  0.999590"
      ]
     },
     "execution_count": 127,
     "metadata": {},
     "output_type": "execute_result"
    }
   ],
   "source": [
    "metrics_dataframe(y_test,y_pred_NNC)"
   ]
  },
  {
   "cell_type": "markdown",
   "metadata": {},
   "source": [
    "### Neural Network With ADASYN Data "
   ]
  },
  {
   "cell_type": "code",
   "execution_count": 133,
   "metadata": {},
   "outputs": [],
   "source": [
    "import keras\n",
    "from keras import backend as K\n",
    "from keras.models import Sequential\n",
    "from keras.layers import Activation\n",
    "from keras.layers.core import Dense\n",
    "from keras.optimizers import Adam\n",
    "from keras.metrics import categorical_crossentropy\n",
    "\n",
    "n_inputs = X_train.shape[1]\n",
    "\n",
    "NN_model_ada = Sequential([\n",
    "    Dense(n_inputs, input_shape=(n_inputs, ), activation='relu'),\n",
    "    Dense(32, activation='relu'),\n",
    "    Dense(2, activation='softmax')\n",
    "])"
   ]
  },
  {
   "cell_type": "code",
   "execution_count": 134,
   "metadata": {},
   "outputs": [
    {
     "name": "stdout",
     "output_type": "stream",
     "text": [
      "Model: \"sequential_4\"\n",
      "_________________________________________________________________\n",
      "Layer (type)                 Output Shape              Param #   \n",
      "=================================================================\n",
      "dense_12 (Dense)             (None, 29)                870       \n",
      "_________________________________________________________________\n",
      "dense_13 (Dense)             (None, 32)                960       \n",
      "_________________________________________________________________\n",
      "dense_14 (Dense)             (None, 2)                 66        \n",
      "=================================================================\n",
      "Total params: 1,896\n",
      "Trainable params: 1,896\n",
      "Non-trainable params: 0\n",
      "_________________________________________________________________\n"
     ]
    }
   ],
   "source": [
    "NN_model_ada.summary()"
   ]
  },
  {
   "cell_type": "code",
   "execution_count": 136,
   "metadata": {},
   "outputs": [
    {
     "name": "stdout",
     "output_type": "stream",
     "text": [
      "Epoch 1/20\n",
      "11146/11146 - 7s - loss: 0.0092 - accuracy: 0.9981 - val_loss: 0.4884 - val_accuracy: 0.9276\n",
      "Epoch 2/20\n",
      "11146/11146 - 7s - loss: 0.0053 - accuracy: 0.9989 - val_loss: 0.6155 - val_accuracy: 0.9139\n",
      "Epoch 3/20\n",
      "11146/11146 - 7s - loss: 0.0041 - accuracy: 0.9991 - val_loss: 0.3419 - val_accuracy: 0.9387\n",
      "Epoch 4/20\n",
      "11146/11146 - 7s - loss: 0.0037 - accuracy: 0.9992 - val_loss: 0.2367 - val_accuracy: 0.9301\n",
      "Epoch 5/20\n",
      "11146/11146 - 7s - loss: 0.0031 - accuracy: 0.9993 - val_loss: 0.4737 - val_accuracy: 0.9127\n",
      "Epoch 6/20\n",
      "11146/11146 - 7s - loss: 0.0027 - accuracy: 0.9994 - val_loss: 0.1625 - val_accuracy: 0.9563\n",
      "Epoch 7/20\n",
      "11146/11146 - 7s - loss: 0.0025 - accuracy: 0.9995 - val_loss: 0.4807 - val_accuracy: 0.8968\n",
      "Epoch 8/20\n",
      "11146/11146 - 7s - loss: 0.0025 - accuracy: 0.9995 - val_loss: 0.4834 - val_accuracy: 0.9066\n",
      "Epoch 9/20\n",
      "11146/11146 - 7s - loss: 0.0020 - accuracy: 0.9996 - val_loss: 0.1904 - val_accuracy: 0.9563\n",
      "Epoch 10/20\n",
      "11146/11146 - 7s - loss: 0.0019 - accuracy: 0.9995 - val_loss: 0.2925 - val_accuracy: 0.9258\n",
      "Epoch 11/20\n",
      "11146/11146 - 7s - loss: 0.0018 - accuracy: 0.9996 - val_loss: 0.3149 - val_accuracy: 0.9490\n",
      "Epoch 12/20\n",
      "11146/11146 - 7s - loss: 0.0016 - accuracy: 0.9996 - val_loss: 0.2118 - val_accuracy: 0.9425\n",
      "Epoch 13/20\n",
      "11146/11146 - 7s - loss: 0.0019 - accuracy: 0.9995 - val_loss: 0.2479 - val_accuracy: 0.9341\n",
      "Epoch 14/20\n",
      "11146/11146 - 7s - loss: 0.0015 - accuracy: 0.9996 - val_loss: 0.1071 - val_accuracy: 0.9633\n",
      "Epoch 15/20\n",
      "11146/11146 - 7s - loss: 0.0014 - accuracy: 0.9996 - val_loss: 0.2494 - val_accuracy: 0.9406\n",
      "Epoch 16/20\n",
      "11146/11146 - 7s - loss: 0.0013 - accuracy: 0.9997 - val_loss: 0.2684 - val_accuracy: 0.9439\n",
      "Epoch 17/20\n",
      "11146/11146 - 7s - loss: 0.0015 - accuracy: 0.9997 - val_loss: 0.1613 - val_accuracy: 0.9587\n",
      "Epoch 18/20\n",
      "11146/11146 - 8s - loss: 0.0010 - accuracy: 0.9997 - val_loss: 0.1814 - val_accuracy: 0.9511\n",
      "Epoch 19/20\n",
      "11146/11146 - 7s - loss: 0.0014 - accuracy: 0.9996 - val_loss: 0.3801 - val_accuracy: 0.9182\n",
      "Epoch 20/20\n",
      "11146/11146 - 7s - loss: 0.0011 - accuracy: 0.9997 - val_loss: 0.0804 - val_accuracy: 0.9836\n"
     ]
    },
    {
     "data": {
      "text/plain": [
       "<tensorflow.python.keras.callbacks.History at 0x1c189bae730>"
      ]
     },
     "execution_count": 136,
     "metadata": {},
     "output_type": "execute_result"
    }
   ],
   "source": [
    "NN_model_ada.compile(Adam(lr=0.001), loss='sparse_categorical_crossentropy', metrics=['accuracy'])\n",
    "NN_model_ada.fit(X_train_adasyn, y_train_adasyn, validation_split=0.3, batch_size=25, epochs=20, shuffle=True, verbose=2)"
   ]
  },
  {
   "cell_type": "code",
   "execution_count": 137,
   "metadata": {},
   "outputs": [
    {
     "name": "stdout",
     "output_type": "stream",
     "text": [
      "[[85215    80]\n",
      " [   31   117]]\n",
      "TP 117 FP 80\n",
      "0.6782608695652175 0.5939086294416244 0.7905405405405406\n"
     ]
    },
    {
     "data": {
      "text/html": [
       "<div>\n",
       "<style scoped>\n",
       "    .dataframe tbody tr th:only-of-type {\n",
       "        vertical-align: middle;\n",
       "    }\n",
       "\n",
       "    .dataframe tbody tr th {\n",
       "        vertical-align: top;\n",
       "    }\n",
       "\n",
       "    .dataframe thead th {\n",
       "        text-align: right;\n",
       "    }\n",
       "</style>\n",
       "<table border=\"1\" class=\"dataframe\">\n",
       "  <thead>\n",
       "    <tr style=\"text-align: right;\">\n",
       "      <th></th>\n",
       "      <th>Metric</th>\n",
       "      <th>Score</th>\n",
       "    </tr>\n",
       "  </thead>\n",
       "  <tbody>\n",
       "    <tr>\n",
       "      <th>0</th>\n",
       "      <td>Specificity</td>\n",
       "      <td>0.999062</td>\n",
       "    </tr>\n",
       "    <tr>\n",
       "      <th>1</th>\n",
       "      <td>Accuracy</td>\n",
       "      <td>0.998701</td>\n",
       "    </tr>\n",
       "    <tr>\n",
       "      <th>2</th>\n",
       "      <td>F1 Score</td>\n",
       "      <td>0.678261</td>\n",
       "    </tr>\n",
       "    <tr>\n",
       "      <th>3</th>\n",
       "      <td>Precision</td>\n",
       "      <td>0.593909</td>\n",
       "    </tr>\n",
       "    <tr>\n",
       "      <th>4</th>\n",
       "      <td>Sensitivity/Recall</td>\n",
       "      <td>0.790541</td>\n",
       "    </tr>\n",
       "    <tr>\n",
       "      <th>5</th>\n",
       "      <td>False Positive Rate</td>\n",
       "      <td>0.000938</td>\n",
       "    </tr>\n",
       "    <tr>\n",
       "      <th>6</th>\n",
       "      <td>Positive Predictive Value</td>\n",
       "      <td>0.593909</td>\n",
       "    </tr>\n",
       "    <tr>\n",
       "      <th>7</th>\n",
       "      <td>Negative Predictive Value</td>\n",
       "      <td>0.999636</td>\n",
       "    </tr>\n",
       "  </tbody>\n",
       "</table>\n",
       "</div>"
      ],
      "text/plain": [
       "                      Metric     Score\n",
       "0                Specificity  0.999062\n",
       "1                   Accuracy  0.998701\n",
       "2                   F1 Score  0.678261\n",
       "3                  Precision  0.593909\n",
       "4         Sensitivity/Recall  0.790541\n",
       "5        False Positive Rate  0.000938\n",
       "6  Positive Predictive Value  0.593909\n",
       "7  Negative Predictive Value  0.999636"
      ]
     },
     "execution_count": 137,
     "metadata": {},
     "output_type": "execute_result"
    }
   ],
   "source": [
    "#Predicting on test data and evaluating the metrics\n",
    "y_pred_NN_ada = NN_model_ada.predict(X_test, batch_size=200, verbose=0)\n",
    "y_pred_NN_adaC = NN_model_ada.predict_classes(X_test, batch_size=200, verbose=0)\n",
    "\n",
    "print(confusion_matrix(y_test,y_pred_NN_adaC))\n",
    "metrics_dataframe(y_test,y_pred_NN_adaC)"
   ]
  },
  {
   "cell_type": "markdown",
   "metadata": {},
   "source": [
    "## Conclusion 2:\n",
    "\n",
    "- We got relatively better models using Neural Network. Using the SMOTE balanced data, we were able to achieve F1-score `0.7687` and with ADASYN data, we got `0.6782` F1-score.\n",
    "- Also, the computational time required for Neural Network models was very less compared to the ensemble models like Random Forest and XGBoost."
   ]
  }
 ],
 "metadata": {
  "accelerator": "GPU",
  "colab": {
   "collapsed_sections": [
    "x1lrQeIKpiSC"
   ],
   "name": "Credit Card Fraud Detection.ipynb",
   "provenance": []
  },
  "kernelspec": {
   "display_name": "Python 3",
   "language": "python",
   "name": "python3"
  },
  "language_info": {
   "codemirror_mode": {
    "name": "ipython",
    "version": 3
   },
   "file_extension": ".py",
   "mimetype": "text/x-python",
   "name": "python",
   "nbconvert_exporter": "python",
   "pygments_lexer": "ipython3",
   "version": "3.7.3"
  }
 },
 "nbformat": 4,
 "nbformat_minor": 4
}
